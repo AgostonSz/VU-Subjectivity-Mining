{
 "cells": [
  {
   "cell_type": "code",
   "execution_count": 1,
   "metadata": {
    "execution": {
     "iopub.execute_input": "2022-10-13T08:25:12.783408Z",
     "iopub.status.busy": "2022-10-13T08:25:12.782867Z",
     "iopub.status.idle": "2022-10-13T08:25:36.477593Z",
     "shell.execute_reply": "2022-10-13T08:25:36.476301Z",
     "shell.execute_reply.started": "2022-10-13T08:25:12.783291Z"
    },
    "id": "08fLjN4sg-yx"
   },
   "outputs": [],
   "source": [
    "%%capture\n",
    "!pip install simpletransformers"
   ]
  },
  {
   "cell_type": "code",
   "execution_count": 2,
   "metadata": {
    "execution": {
     "iopub.execute_input": "2022-10-13T08:25:36.480164Z",
     "iopub.status.busy": "2022-10-13T08:25:36.479826Z",
     "iopub.status.idle": "2022-10-13T08:25:36.933662Z",
     "shell.execute_reply": "2022-10-13T08:25:36.932679Z",
     "shell.execute_reply.started": "2022-10-13T08:25:36.480130Z"
    },
    "id": "J6xX0C84iLXn"
   },
   "outputs": [],
   "source": [
    "import pandas as pd\n",
    "import sklearn\n",
    "import numpy as np\n",
    "\n",
    "from simpletransformers.classification import ClassificationModel"
   ]
  },
  {
   "cell_type": "code",
   "execution_count": 4,
   "metadata": {
    "execution": {
     "iopub.execute_input": "2022-10-13T08:25:46.295080Z",
     "iopub.status.busy": "2022-10-13T08:25:46.294235Z",
     "iopub.status.idle": "2022-10-13T08:25:46.466921Z",
     "shell.execute_reply": "2022-10-13T08:25:46.465975Z",
     "shell.execute_reply.started": "2022-10-13T08:25:46.295024Z"
    },
    "id": "9tdHM6dJiOeU"
   },
   "outputs": [],
   "source": [
    "hasoc_train = pd.read_csv('../input/subjectivity-mining/hasoc-train.csv', index_col=0)\n",
    "olid_test = pd.read_csv('../input/subjectivity-mining/olid-test.csv', index_col=0)\n",
    "olid_train_small = pd.read_csv('../input/subjectivity-mining/olid-train-small.csv', index_col=0)\n",
    "olid_train = pd.read_csv('../input/subjectivity-mining/olid-train.csv', index_col=0)"
   ]
  },
  {
   "cell_type": "markdown",
   "metadata": {},
   "source": [
    "# HateBERT"
   ]
  },
  {
   "cell_type": "markdown",
   "metadata": {},
   "source": [
    "## train on OLID small"
   ]
  },
  {
   "cell_type": "code",
   "execution_count": 5,
   "metadata": {
    "execution": {
     "iopub.execute_input": "2022-10-13T08:25:46.468876Z",
     "iopub.status.busy": "2022-10-13T08:25:46.468517Z",
     "iopub.status.idle": "2022-10-13T08:25:46.476994Z",
     "shell.execute_reply": "2022-10-13T08:25:46.476026Z",
     "shell.execute_reply.started": "2022-10-13T08:25:46.468840Z"
    },
    "id": "N5JPEm0bj-s7"
   },
   "outputs": [],
   "source": [
    "model_args={\n",
    "    'num_train_epochs': 10,\n",
    "    'train_batch_size': 64,\n",
    "    'eval_batch_size': 64,\n",
    "    'learning_rate': 5e-6,\n",
    "    'overwrite_output_dir': True,\n",
    "    'evaluate_during_training': True\n",
    "}"
   ]
  },
  {
   "cell_type": "code",
   "execution_count": 6,
   "metadata": {
    "execution": {
     "iopub.execute_input": "2022-10-13T08:25:46.479867Z",
     "iopub.status.busy": "2022-10-13T08:25:46.479168Z",
     "iopub.status.idle": "2022-10-13T08:28:04.566625Z",
     "shell.execute_reply": "2022-10-13T08:28:04.565670Z",
     "shell.execute_reply.started": "2022-10-13T08:25:46.479830Z"
    }
   },
   "outputs": [
    {
     "data": {
      "application/vnd.jupyter.widget-view+json": {
       "model_id": "de672f2123594d9388a60dab414e2106",
       "version_major": 2,
       "version_minor": 0
      },
      "text/plain": [
       "Downloading:   0%|          | 0.00/481 [00:00<?, ?B/s]"
      ]
     },
     "metadata": {},
     "output_type": "display_data"
    },
    {
     "data": {
      "application/vnd.jupyter.widget-view+json": {
       "model_id": "ac6c06b56fdd4bbeb4568e2f289ebaaf",
       "version_major": 2,
       "version_minor": 0
      },
      "text/plain": [
       "Downloading:   0%|          | 0.00/478M [00:00<?, ?B/s]"
      ]
     },
     "metadata": {},
     "output_type": "display_data"
    },
    {
     "name": "stderr",
     "output_type": "stream",
     "text": [
      "Some weights of the model checkpoint at roberta-base were not used when initializing RobertaForSequenceClassification: ['lm_head.bias', 'lm_head.dense.bias', 'lm_head.dense.weight', 'lm_head.decoder.weight', 'roberta.pooler.dense.bias', 'lm_head.layer_norm.weight', 'roberta.pooler.dense.weight', 'lm_head.layer_norm.bias']\n",
      "- This IS expected if you are initializing RobertaForSequenceClassification from the checkpoint of a model trained on another task or with another architecture (e.g. initializing a BertForSequenceClassification model from a BertForPreTraining model).\n",
      "- This IS NOT expected if you are initializing RobertaForSequenceClassification from the checkpoint of a model that you expect to be exactly identical (initializing a BertForSequenceClassification model from a BertForSequenceClassification model).\n",
      "Some weights of RobertaForSequenceClassification were not initialized from the model checkpoint at roberta-base and are newly initialized: ['classifier.dense.bias', 'classifier.out_proj.bias', 'classifier.out_proj.weight', 'classifier.dense.weight']\n",
      "You should probably TRAIN this model on a down-stream task to be able to use it for predictions and inference.\n"
     ]
    },
    {
     "data": {
      "application/vnd.jupyter.widget-view+json": {
       "model_id": "261d9a95678840d9a9c66a2e4877de37",
       "version_major": 2,
       "version_minor": 0
      },
      "text/plain": [
       "Downloading:   0%|          | 0.00/878k [00:00<?, ?B/s]"
      ]
     },
     "metadata": {},
     "output_type": "display_data"
    },
    {
     "data": {
      "application/vnd.jupyter.widget-view+json": {
       "model_id": "22dcbff3e5d34441bd791e3525eadda1",
       "version_major": 2,
       "version_minor": 0
      },
      "text/plain": [
       "Downloading:   0%|          | 0.00/446k [00:00<?, ?B/s]"
      ]
     },
     "metadata": {},
     "output_type": "display_data"
    },
    {
     "data": {
      "application/vnd.jupyter.widget-view+json": {
       "model_id": "8f8f8e4325164b50978be07056ff73f7",
       "version_major": 2,
       "version_minor": 0
      },
      "text/plain": [
       "Downloading:   0%|          | 0.00/1.29M [00:00<?, ?B/s]"
      ]
     },
     "metadata": {},
     "output_type": "display_data"
    },
    {
     "data": {
      "application/vnd.jupyter.widget-view+json": {
       "model_id": "469dff960ab1473884b9c6e86c3e2664",
       "version_major": 2,
       "version_minor": 0
      },
      "text/plain": [
       "  0%|          | 0/5267 [00:00<?, ?it/s]"
      ]
     },
     "metadata": {},
     "output_type": "display_data"
    },
    {
     "data": {
      "application/vnd.jupyter.widget-view+json": {
       "model_id": "79fd3d0dcc5a4f50a3c15a7aaeaee62e",
       "version_major": 2,
       "version_minor": 0
      },
      "text/plain": [
       "Epoch:   0%|          | 0/1 [00:00<?, ?it/s]"
      ]
     },
     "metadata": {},
     "output_type": "display_data"
    },
    {
     "data": {
      "application/vnd.jupyter.widget-view+json": {
       "model_id": "d9f7f2b1a11246618fc594770dbbc793",
       "version_major": 2,
       "version_minor": 0
      },
      "text/plain": [
       "Running Epoch 0 of 1:   0%|          | 0/83 [00:00<?, ?it/s]"
      ]
     },
     "metadata": {},
     "output_type": "display_data"
    },
    {
     "data": {
      "application/vnd.jupyter.widget-view+json": {
       "model_id": "b5704fdff342498f8174c3842e82cc28",
       "version_major": 2,
       "version_minor": 0
      },
      "text/plain": [
       "  0%|          | 0/585 [00:00<?, ?it/s]"
      ]
     },
     "metadata": {},
     "output_type": "display_data"
    },
    {
     "data": {
      "application/vnd.jupyter.widget-view+json": {
       "model_id": "4365bdebcc21459581de6298c8aea62c",
       "version_major": 2,
       "version_minor": 0
      },
      "text/plain": [
       "  0%|          | 0/860 [00:00<?, ?it/s]"
      ]
     },
     "metadata": {},
     "output_type": "display_data"
    },
    {
     "data": {
      "application/vnd.jupyter.widget-view+json": {
       "model_id": "ce7b0e2f0752494fa14c3b9103d9bbc4",
       "version_major": 2,
       "version_minor": 0
      },
      "text/plain": [
       "Running Evaluation:   0%|          | 0/14 [00:00<?, ?it/s]"
      ]
     },
     "metadata": {},
     "output_type": "display_data"
    }
   ],
   "source": [
    "val = olid_train_small.sample(frac = 0.1)\n",
    "train = olid_train_small.drop(val.index)\n",
    "\n",
    "\n",
    "model = ClassificationModel(\"roberta\", \"roberta-base\", args=model_args)\n",
    "model.train_model(train, eval_df=val, acc=sklearn.metrics.accuracy_score)\n",
    "result, model_outputs, wrong_predictions = model.eval_model(olid_test, acc=sklearn.metrics.accuracy_score)\n",
    "output_hatebert_olid_small = model_outputs"
   ]
  },
  {
   "cell_type": "markdown",
   "metadata": {},
   "source": [
    "## train on hasoc"
   ]
  },
  {
   "cell_type": "code",
   "execution_count": 7,
   "metadata": {
    "execution": {
     "iopub.execute_input": "2022-10-13T08:28:04.568992Z",
     "iopub.status.busy": "2022-10-13T08:28:04.568372Z",
     "iopub.status.idle": "2022-10-13T08:29:47.536471Z",
     "shell.execute_reply": "2022-10-13T08:29:47.535544Z",
     "shell.execute_reply.started": "2022-10-13T08:28:04.568946Z"
    }
   },
   "outputs": [
    {
     "name": "stderr",
     "output_type": "stream",
     "text": [
      "Some weights of the model checkpoint at roberta-base were not used when initializing RobertaForSequenceClassification: ['lm_head.bias', 'lm_head.dense.bias', 'lm_head.dense.weight', 'lm_head.decoder.weight', 'roberta.pooler.dense.bias', 'lm_head.layer_norm.weight', 'roberta.pooler.dense.weight', 'lm_head.layer_norm.bias']\n",
      "- This IS expected if you are initializing RobertaForSequenceClassification from the checkpoint of a model trained on another task or with another architecture (e.g. initializing a BertForSequenceClassification model from a BertForPreTraining model).\n",
      "- This IS NOT expected if you are initializing RobertaForSequenceClassification from the checkpoint of a model that you expect to be exactly identical (initializing a BertForSequenceClassification model from a BertForSequenceClassification model).\n",
      "Some weights of RobertaForSequenceClassification were not initialized from the model checkpoint at roberta-base and are newly initialized: ['classifier.dense.bias', 'classifier.out_proj.bias', 'classifier.out_proj.weight', 'classifier.dense.weight']\n",
      "You should probably TRAIN this model on a down-stream task to be able to use it for predictions and inference.\n"
     ]
    },
    {
     "data": {
      "application/vnd.jupyter.widget-view+json": {
       "model_id": "cbbd25ec9bc14e3ca2ff78c512799520",
       "version_major": 2,
       "version_minor": 0
      },
      "text/plain": [
       "  0%|          | 0/5267 [00:00<?, ?it/s]"
      ]
     },
     "metadata": {},
     "output_type": "display_data"
    },
    {
     "data": {
      "application/vnd.jupyter.widget-view+json": {
       "model_id": "79007e874ad744ab89781a87741ec6a1",
       "version_major": 2,
       "version_minor": 0
      },
      "text/plain": [
       "Epoch:   0%|          | 0/1 [00:00<?, ?it/s]"
      ]
     },
     "metadata": {},
     "output_type": "display_data"
    },
    {
     "data": {
      "application/vnd.jupyter.widget-view+json": {
       "model_id": "eefabb425ef5429e8eb0fe0a4297014a",
       "version_major": 2,
       "version_minor": 0
      },
      "text/plain": [
       "Running Epoch 0 of 1:   0%|          | 0/83 [00:00<?, ?it/s]"
      ]
     },
     "metadata": {},
     "output_type": "display_data"
    },
    {
     "data": {
      "application/vnd.jupyter.widget-view+json": {
       "model_id": "6dbfbc1b302f4594b74988d5fb79d56f",
       "version_major": 2,
       "version_minor": 0
      },
      "text/plain": [
       "  0%|          | 0/585 [00:00<?, ?it/s]"
      ]
     },
     "metadata": {},
     "output_type": "display_data"
    },
    {
     "data": {
      "application/vnd.jupyter.widget-view+json": {
       "model_id": "276f73d81f7c4bae9aec4c4049699aec",
       "version_major": 2,
       "version_minor": 0
      },
      "text/plain": [
       "  0%|          | 0/860 [00:00<?, ?it/s]"
      ]
     },
     "metadata": {},
     "output_type": "display_data"
    },
    {
     "data": {
      "application/vnd.jupyter.widget-view+json": {
       "model_id": "07a9079791e74ad692afea63d3de1edf",
       "version_major": 2,
       "version_minor": 0
      },
      "text/plain": [
       "Running Evaluation:   0%|          | 0/14 [00:00<?, ?it/s]"
      ]
     },
     "metadata": {},
     "output_type": "display_data"
    }
   ],
   "source": [
    "val = hasoc_train.sample(frac = 0.1)\n",
    "train = hasoc_train.drop(val.index)\n",
    "\n",
    "\n",
    "model = ClassificationModel(\"roberta\", \"roberta-base\", args=model_args)\n",
    "model.train_model(train, eval_df=val, acc=sklearn.metrics.accuracy_score)\n",
    "result, model_outputs, wrong_predictions = model.eval_model(olid_test, acc=sklearn.metrics.accuracy_score)\n",
    "output_hatebert_hasoc = model_outputs"
   ]
  },
  {
   "cell_type": "markdown",
   "metadata": {},
   "source": [
    "# Roberta"
   ]
  },
  {
   "cell_type": "markdown",
   "metadata": {},
   "source": [
    "## train on olid small"
   ]
  },
  {
   "cell_type": "code",
   "execution_count": 8,
   "metadata": {
    "execution": {
     "iopub.execute_input": "2022-10-13T08:29:47.538976Z",
     "iopub.status.busy": "2022-10-13T08:29:47.538246Z",
     "iopub.status.idle": "2022-10-13T08:29:47.544496Z",
     "shell.execute_reply": "2022-10-13T08:29:47.543191Z",
     "shell.execute_reply.started": "2022-10-13T08:29:47.538929Z"
    }
   },
   "outputs": [],
   "source": [
    "model_args={\n",
    "    'num_train_epochs': 10,\n",
    "    'train_batch_size': 64,\n",
    "    'eval_batch_size': 64,\n",
    "    'learning_rate': 5e-6,\n",
    "    'overwrite_output_dir': True,\n",
    "    'evaluate_during_training': True\n",
    "}"
   ]
  },
  {
   "cell_type": "code",
   "execution_count": 9,
   "metadata": {
    "execution": {
     "iopub.execute_input": "2022-10-13T08:29:47.547056Z",
     "iopub.status.busy": "2022-10-13T08:29:47.545981Z",
     "iopub.status.idle": "2022-10-13T08:31:25.990564Z",
     "shell.execute_reply": "2022-10-13T08:31:25.989538Z",
     "shell.execute_reply.started": "2022-10-13T08:29:47.547004Z"
    }
   },
   "outputs": [
    {
     "name": "stderr",
     "output_type": "stream",
     "text": [
      "Some weights of the model checkpoint at roberta-base were not used when initializing RobertaForSequenceClassification: ['lm_head.bias', 'lm_head.dense.bias', 'lm_head.dense.weight', 'lm_head.decoder.weight', 'roberta.pooler.dense.bias', 'lm_head.layer_norm.weight', 'roberta.pooler.dense.weight', 'lm_head.layer_norm.bias']\n",
      "- This IS expected if you are initializing RobertaForSequenceClassification from the checkpoint of a model trained on another task or with another architecture (e.g. initializing a BertForSequenceClassification model from a BertForPreTraining model).\n",
      "- This IS NOT expected if you are initializing RobertaForSequenceClassification from the checkpoint of a model that you expect to be exactly identical (initializing a BertForSequenceClassification model from a BertForSequenceClassification model).\n",
      "Some weights of RobertaForSequenceClassification were not initialized from the model checkpoint at roberta-base and are newly initialized: ['classifier.dense.bias', 'classifier.out_proj.bias', 'classifier.out_proj.weight', 'classifier.dense.weight']\n",
      "You should probably TRAIN this model on a down-stream task to be able to use it for predictions and inference.\n"
     ]
    },
    {
     "data": {
      "application/vnd.jupyter.widget-view+json": {
       "model_id": "a79ac5a023a84c71b1fb2603f881a871",
       "version_major": 2,
       "version_minor": 0
      },
      "text/plain": [
       "  0%|          | 0/5267 [00:00<?, ?it/s]"
      ]
     },
     "metadata": {},
     "output_type": "display_data"
    },
    {
     "data": {
      "application/vnd.jupyter.widget-view+json": {
       "model_id": "662a6db24e2f4362bbadc2910ca8fff3",
       "version_major": 2,
       "version_minor": 0
      },
      "text/plain": [
       "Epoch:   0%|          | 0/1 [00:00<?, ?it/s]"
      ]
     },
     "metadata": {},
     "output_type": "display_data"
    },
    {
     "data": {
      "application/vnd.jupyter.widget-view+json": {
       "model_id": "f7aba9ca80ab4c3d8134bddf1d67a40a",
       "version_major": 2,
       "version_minor": 0
      },
      "text/plain": [
       "Running Epoch 0 of 1:   0%|          | 0/83 [00:00<?, ?it/s]"
      ]
     },
     "metadata": {},
     "output_type": "display_data"
    },
    {
     "data": {
      "application/vnd.jupyter.widget-view+json": {
       "model_id": "5a0f321f9205415090a61942aae2ad7d",
       "version_major": 2,
       "version_minor": 0
      },
      "text/plain": [
       "  0%|          | 0/585 [00:00<?, ?it/s]"
      ]
     },
     "metadata": {},
     "output_type": "display_data"
    },
    {
     "data": {
      "application/vnd.jupyter.widget-view+json": {
       "model_id": "8c21b23ad1024f02b17aaa4aa6ed39ee",
       "version_major": 2,
       "version_minor": 0
      },
      "text/plain": [
       "  0%|          | 0/860 [00:00<?, ?it/s]"
      ]
     },
     "metadata": {},
     "output_type": "display_data"
    },
    {
     "data": {
      "application/vnd.jupyter.widget-view+json": {
       "model_id": "3010ef25327d42e2be5215b026d4396f",
       "version_major": 2,
       "version_minor": 0
      },
      "text/plain": [
       "Running Evaluation:   0%|          | 0/14 [00:00<?, ?it/s]"
      ]
     },
     "metadata": {},
     "output_type": "display_data"
    }
   ],
   "source": [
    "val = olid_train_small.sample(frac = 0.1)\n",
    "train = olid_train_small.drop(val.index)\n",
    "\n",
    "model = ClassificationModel(\"roberta\", \"roberta-base\", args=model_args)\n",
    "model.train_model(train, eval_df=val, acc=sklearn.metrics.accuracy_score)\n",
    "result, model_outputs, wrong_predictions = model.eval_model(olid_test, acc=sklearn.metrics.accuracy_score)\n",
    "output_roberta_olid_small = model_outputs"
   ]
  },
  {
   "cell_type": "markdown",
   "metadata": {},
   "source": [
    "## train on HASOC"
   ]
  },
  {
   "cell_type": "code",
   "execution_count": null,
   "metadata": {
    "execution": {
     "iopub.execute_input": "2022-10-13T08:34:07.762146Z",
     "iopub.status.busy": "2022-10-13T08:34:07.761634Z"
    }
   },
   "outputs": [
    {
     "name": "stderr",
     "output_type": "stream",
     "text": [
      "Some weights of the model checkpoint at roberta-base were not used when initializing RobertaForSequenceClassification: ['lm_head.bias', 'lm_head.dense.bias', 'lm_head.dense.weight', 'lm_head.decoder.weight', 'roberta.pooler.dense.bias', 'lm_head.layer_norm.weight', 'roberta.pooler.dense.weight', 'lm_head.layer_norm.bias']\n",
      "- This IS expected if you are initializing RobertaForSequenceClassification from the checkpoint of a model trained on another task or with another architecture (e.g. initializing a BertForSequenceClassification model from a BertForPreTraining model).\n",
      "- This IS NOT expected if you are initializing RobertaForSequenceClassification from the checkpoint of a model that you expect to be exactly identical (initializing a BertForSequenceClassification model from a BertForSequenceClassification model).\n",
      "Some weights of RobertaForSequenceClassification were not initialized from the model checkpoint at roberta-base and are newly initialized: ['classifier.dense.bias', 'classifier.out_proj.bias', 'classifier.out_proj.weight', 'classifier.dense.weight']\n",
      "You should probably TRAIN this model on a down-stream task to be able to use it for predictions and inference.\n"
     ]
    },
    {
     "data": {
      "application/vnd.jupyter.widget-view+json": {
       "model_id": "98c896343b1a4cc7a005541e3557508b",
       "version_major": 2,
       "version_minor": 0
      },
      "text/plain": [
       "  0%|          | 0/5267 [00:00<?, ?it/s]"
      ]
     },
     "metadata": {},
     "output_type": "display_data"
    },
    {
     "data": {
      "application/vnd.jupyter.widget-view+json": {
       "model_id": "a6aba28d3bca4704aa94373d3114ffde",
       "version_major": 2,
       "version_minor": 0
      },
      "text/plain": [
       "Epoch:   0%|          | 0/1 [00:00<?, ?it/s]"
      ]
     },
     "metadata": {},
     "output_type": "display_data"
    },
    {
     "data": {
      "application/vnd.jupyter.widget-view+json": {
       "model_id": "640331dc8ecc4c7aba2f79efd18c850c",
       "version_major": 2,
       "version_minor": 0
      },
      "text/plain": [
       "Running Epoch 0 of 1:   0%|          | 0/83 [00:00<?, ?it/s]"
      ]
     },
     "metadata": {},
     "output_type": "display_data"
    }
   ],
   "source": [
    "val = hasoc_train.sample(frac = 0.1)\n",
    "train = hasoc_train.drop(val.index)\n",
    "\n",
    "model = ClassificationModel(\"roberta\", \"roberta-base\", args=model_args)\n",
    "model.train_model(train, eval_df=val, acc=sklearn.metrics.accuracy_score)\n",
    "result, model_outputs, wrong_predictions = model.eval_model(olid_test, acc=sklearn.metrics.accuracy_score)\n",
    "output_roberta_hasoc = model_outputs"
   ]
  },
  {
   "cell_type": "markdown",
   "metadata": {},
   "source": [
    "# Save Results"
   ]
  },
  {
   "cell_type": "code",
   "execution_count": null,
   "metadata": {
    "execution": {
     "iopub.status.busy": "2022-10-13T08:31:38.454319Z",
     "iopub.status.idle": "2022-10-13T08:31:38.455071Z",
     "shell.execute_reply": "2022-10-13T08:31:38.454823Z",
     "shell.execute_reply.started": "2022-10-13T08:31:38.454790Z"
    }
   },
   "outputs": [],
   "source": [
    "olid_test['roberta_olid_small'] = np.argmax(output_roberta_olid_small, axis=1)\n",
    "olid_test['hateBERT_olid_small'] = np.argmax(output_hatebert_olid_small, axis=1)\n",
    "olid_test['roberta_hasoc'] = np.argmax(output_roberta_hasoc, axis=1)\n",
    "olid_test['hateBERT_hasoc'] = np.argmax(output_hatebert_hasoc, axis=1)\n",
    "olid_test.to_csv('results_transformers.csv')"
   ]
  }
 ],
 "metadata": {
  "kernelspec": {
   "display_name": "Python 3",
   "language": "python",
   "name": "python3"
  },
  "language_info": {
   "codemirror_mode": {
    "name": "ipython",
    "version": 3
   },
   "file_extension": ".py",
   "mimetype": "text/x-python",
   "name": "python",
   "nbconvert_exporter": "python",
   "pygments_lexer": "ipython3",
   "version": "3.8.8"
  }
 },
 "nbformat": 4,
 "nbformat_minor": 4
}

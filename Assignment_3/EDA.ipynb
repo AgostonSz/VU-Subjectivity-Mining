{
  "nbformat": 4,
  "nbformat_minor": 0,
  "metadata": {
    "colab": {
      "provenance": []
    },
    "kernelspec": {
      "name": "python3",
      "display_name": "Python 3"
    },
    "language_info": {
      "name": "python"
    }
  },
  "cells": [
    {
      "cell_type": "code",
      "source": [
        "!pip install textdata"
      ],
      "metadata": {
        "id": "2JfdwnRHVUDC",
        "colab": {
          "base_uri": "https://localhost:8080/"
        },
        "outputId": "aeaacd6d-8bfe-4118-cf37-f469a6ecdd2f"
      },
      "execution_count": null,
      "outputs": [
        {
          "output_type": "stream",
          "name": "stdout",
          "text": [
            "Looking in indexes: https://pypi.org/simple, https://us-python.pkg.dev/colab-wheels/public/simple/\n",
            "Collecting textdata\n",
            "  Downloading textdata-2.4.1-py2.py3-none-any.whl (17 kB)\n",
            "Collecting intspan\n",
            "  Downloading intspan-1.6.1-py3-none-any.whl (11 kB)\n",
            "Installing collected packages: intspan, textdata\n",
            "Successfully installed intspan-1.6.1 textdata-2.4.1\n"
          ]
        }
      ]
    },
    {
      "cell_type": "code",
      "source": [
        "import textdata as td\n",
        "import pandas as pd\n",
        "import string\n",
        "import nltk.corpus\n",
        "from nltk.corpus import stopwords\n",
        "import nltk\n",
        "import re\n",
        "import numpy as np\n",
        "from sklearn.feature_extraction.text import CountVectorizer\n",
        "from sklearn.decomposition import LatentDirichletAllocation, NMF\n",
        "import matplotlib.pyplot as plt\n",
        "import matplotlib\n"
      ],
      "metadata": {
        "id": "GtECHLsZV1p6"
      },
      "execution_count": null,
      "outputs": []
    },
    {
      "cell_type": "code",
      "source": [
        "pip install dataframe-image"
      ],
      "metadata": {
        "colab": {
          "base_uri": "https://localhost:8080/"
        },
        "id": "XIJG4FA98kLi",
        "outputId": "eebd6ac1-1a29-41d5-f871-63de01681997"
      },
      "execution_count": null,
      "outputs": [
        {
          "output_type": "stream",
          "name": "stdout",
          "text": [
            "Looking in indexes: https://pypi.org/simple, https://us-python.pkg.dev/colab-wheels/public/simple/\n",
            "Collecting dataframe-image\n",
            "  Downloading dataframe_image-0.1.3-py3-none-any.whl (6.6 MB)\n",
            "\u001b[K     |████████████████████████████████| 6.6 MB 5.4 MB/s \n",
            "\u001b[?25hRequirement already satisfied: requests in /usr/local/lib/python3.7/dist-packages (from dataframe-image) (2.23.0)\n",
            "Requirement already satisfied: matplotlib>=3.1 in /usr/local/lib/python3.7/dist-packages (from dataframe-image) (3.2.2)\n",
            "Requirement already satisfied: aiohttp in /usr/local/lib/python3.7/dist-packages (from dataframe-image) (3.8.3)\n",
            "Requirement already satisfied: mistune in /usr/local/lib/python3.7/dist-packages (from dataframe-image) (0.8.4)\n",
            "Requirement already satisfied: nbconvert>=5 in /usr/local/lib/python3.7/dist-packages (from dataframe-image) (5.6.1)\n",
            "Requirement already satisfied: beautifulsoup4 in /usr/local/lib/python3.7/dist-packages (from dataframe-image) (4.6.3)\n",
            "Requirement already satisfied: packaging in /usr/local/lib/python3.7/dist-packages (from dataframe-image) (21.3)\n",
            "Requirement already satisfied: pandas>=0.24 in /usr/local/lib/python3.7/dist-packages (from dataframe-image) (1.3.5)\n",
            "Requirement already satisfied: kiwisolver>=1.0.1 in /usr/local/lib/python3.7/dist-packages (from matplotlib>=3.1->dataframe-image) (1.4.4)\n",
            "Requirement already satisfied: numpy>=1.11 in /usr/local/lib/python3.7/dist-packages (from matplotlib>=3.1->dataframe-image) (1.21.6)\n",
            "Requirement already satisfied: cycler>=0.10 in /usr/local/lib/python3.7/dist-packages (from matplotlib>=3.1->dataframe-image) (0.11.0)\n",
            "Requirement already satisfied: pyparsing!=2.0.4,!=2.1.2,!=2.1.6,>=2.0.1 in /usr/local/lib/python3.7/dist-packages (from matplotlib>=3.1->dataframe-image) (3.0.9)\n",
            "Requirement already satisfied: python-dateutil>=2.1 in /usr/local/lib/python3.7/dist-packages (from matplotlib>=3.1->dataframe-image) (2.8.2)\n",
            "Requirement already satisfied: typing-extensions in /usr/local/lib/python3.7/dist-packages (from kiwisolver>=1.0.1->matplotlib>=3.1->dataframe-image) (4.1.1)\n",
            "Requirement already satisfied: jinja2>=2.4 in /usr/local/lib/python3.7/dist-packages (from nbconvert>=5->dataframe-image) (2.11.3)\n",
            "Requirement already satisfied: pygments in /usr/local/lib/python3.7/dist-packages (from nbconvert>=5->dataframe-image) (2.6.1)\n",
            "Requirement already satisfied: traitlets>=4.2 in /usr/local/lib/python3.7/dist-packages (from nbconvert>=5->dataframe-image) (5.1.1)\n",
            "Requirement already satisfied: jupyter-core in /usr/local/lib/python3.7/dist-packages (from nbconvert>=5->dataframe-image) (4.11.1)\n",
            "Requirement already satisfied: pandocfilters>=1.4.1 in /usr/local/lib/python3.7/dist-packages (from nbconvert>=5->dataframe-image) (1.5.0)\n",
            "Requirement already satisfied: defusedxml in /usr/local/lib/python3.7/dist-packages (from nbconvert>=5->dataframe-image) (0.7.1)\n",
            "Requirement already satisfied: entrypoints>=0.2.2 in /usr/local/lib/python3.7/dist-packages (from nbconvert>=5->dataframe-image) (0.4)\n",
            "Requirement already satisfied: testpath in /usr/local/lib/python3.7/dist-packages (from nbconvert>=5->dataframe-image) (0.6.0)\n",
            "Requirement already satisfied: nbformat>=4.4 in /usr/local/lib/python3.7/dist-packages (from nbconvert>=5->dataframe-image) (5.7.0)\n",
            "Requirement already satisfied: bleach in /usr/local/lib/python3.7/dist-packages (from nbconvert>=5->dataframe-image) (5.0.1)\n",
            "Requirement already satisfied: MarkupSafe>=0.23 in /usr/local/lib/python3.7/dist-packages (from jinja2>=2.4->nbconvert>=5->dataframe-image) (2.0.1)\n",
            "Requirement already satisfied: jsonschema>=2.6 in /usr/local/lib/python3.7/dist-packages (from nbformat>=4.4->nbconvert>=5->dataframe-image) (4.3.3)\n",
            "Requirement already satisfied: fastjsonschema in /usr/local/lib/python3.7/dist-packages (from nbformat>=4.4->nbconvert>=5->dataframe-image) (2.16.2)\n",
            "Requirement already satisfied: importlib-metadata>=3.6 in /usr/local/lib/python3.7/dist-packages (from nbformat>=4.4->nbconvert>=5->dataframe-image) (5.0.0)\n",
            "Requirement already satisfied: zipp>=0.5 in /usr/local/lib/python3.7/dist-packages (from importlib-metadata>=3.6->nbformat>=4.4->nbconvert>=5->dataframe-image) (3.9.0)\n",
            "Requirement already satisfied: importlib-resources>=1.4.0 in /usr/local/lib/python3.7/dist-packages (from jsonschema>=2.6->nbformat>=4.4->nbconvert>=5->dataframe-image) (5.10.0)\n",
            "Requirement already satisfied: pyrsistent!=0.17.0,!=0.17.1,!=0.17.2,>=0.14.0 in /usr/local/lib/python3.7/dist-packages (from jsonschema>=2.6->nbformat>=4.4->nbconvert>=5->dataframe-image) (0.18.1)\n",
            "Requirement already satisfied: attrs>=17.4.0 in /usr/local/lib/python3.7/dist-packages (from jsonschema>=2.6->nbformat>=4.4->nbconvert>=5->dataframe-image) (22.1.0)\n",
            "Requirement already satisfied: pytz>=2017.3 in /usr/local/lib/python3.7/dist-packages (from pandas>=0.24->dataframe-image) (2022.4)\n",
            "Requirement already satisfied: six>=1.5 in /usr/local/lib/python3.7/dist-packages (from python-dateutil>=2.1->matplotlib>=3.1->dataframe-image) (1.15.0)\n",
            "Requirement already satisfied: aiosignal>=1.1.2 in /usr/local/lib/python3.7/dist-packages (from aiohttp->dataframe-image) (1.2.0)\n",
            "Requirement already satisfied: charset-normalizer<3.0,>=2.0 in /usr/local/lib/python3.7/dist-packages (from aiohttp->dataframe-image) (2.1.1)\n",
            "Requirement already satisfied: multidict<7.0,>=4.5 in /usr/local/lib/python3.7/dist-packages (from aiohttp->dataframe-image) (6.0.2)\n",
            "Requirement already satisfied: yarl<2.0,>=1.0 in /usr/local/lib/python3.7/dist-packages (from aiohttp->dataframe-image) (1.8.1)\n",
            "Requirement already satisfied: frozenlist>=1.1.1 in /usr/local/lib/python3.7/dist-packages (from aiohttp->dataframe-image) (1.3.1)\n",
            "Requirement already satisfied: async-timeout<5.0,>=4.0.0a3 in /usr/local/lib/python3.7/dist-packages (from aiohttp->dataframe-image) (4.0.2)\n",
            "Requirement already satisfied: asynctest==0.13.0 in /usr/local/lib/python3.7/dist-packages (from aiohttp->dataframe-image) (0.13.0)\n",
            "Requirement already satisfied: idna>=2.0 in /usr/local/lib/python3.7/dist-packages (from yarl<2.0,>=1.0->aiohttp->dataframe-image) (2.10)\n",
            "Requirement already satisfied: webencodings in /usr/local/lib/python3.7/dist-packages (from bleach->nbconvert>=5->dataframe-image) (0.5.1)\n",
            "Requirement already satisfied: certifi>=2017.4.17 in /usr/local/lib/python3.7/dist-packages (from requests->dataframe-image) (2022.9.24)\n",
            "Requirement already satisfied: chardet<4,>=3.0.2 in /usr/local/lib/python3.7/dist-packages (from requests->dataframe-image) (3.0.4)\n",
            "Requirement already satisfied: urllib3!=1.25.0,!=1.25.1,<1.26,>=1.21.1 in /usr/local/lib/python3.7/dist-packages (from requests->dataframe-image) (1.24.3)\n",
            "Installing collected packages: dataframe-image\n",
            "Successfully installed dataframe-image-0.1.3\n"
          ]
        }
      ]
    },
    {
      "cell_type": "code",
      "source": [
        "nltk.download('stopwords')"
      ],
      "metadata": {
        "colab": {
          "base_uri": "https://localhost:8080/"
        },
        "id": "VID9QVnFsWWp",
        "outputId": "6d1df3a5-0742-4c79-c1b7-1e953b1ea070"
      },
      "execution_count": null,
      "outputs": [
        {
          "output_type": "stream",
          "name": "stderr",
          "text": [
            "[nltk_data] Downloading package stopwords to /root/nltk_data...\n",
            "[nltk_data]   Unzipping corpora/stopwords.zip.\n"
          ]
        },
        {
          "output_type": "execute_result",
          "data": {
            "text/plain": [
              "True"
            ]
          },
          "metadata": {},
          "execution_count": 4
        }
      ]
    },
    {
      "cell_type": "code",
      "source": [
        "hasoc = pd.read_csv('/content/hasoc-train.csv')\n",
        "olid_test = pd.read_csv('/content/olid-test.csv')\n",
        "olid_train = pd.read_csv('/content/olid-train-small.csv')"
      ],
      "metadata": {
        "id": "sw9KRERoV4zW"
      },
      "execution_count": null,
      "outputs": []
    },
    {
      "cell_type": "code",
      "source": [
        "olid_test.head()"
      ],
      "metadata": {
        "colab": {
          "base_uri": "https://localhost:8080/",
          "height": 206
        },
        "id": "POG0j3JBWJBu",
        "outputId": "f9177757-a824-43b3-c063-1e2ff66d55d0"
      },
      "execution_count": null,
      "outputs": [
        {
          "output_type": "execute_result",
          "data": {
            "text/plain": [
              "      id                                               text  labels\n",
              "0  15923  #WhoIsQ #WheresTheServer #DumpNike #DECLASFISA...       1\n",
              "1  27014  #ConstitutionDay is revered by Conservatives, ...       0\n",
              "2  30530  #FOXNews #NRA #MAGA #POTUS #TRUMP #2ndAmendmen...       0\n",
              "3  13876  #Watching #Boomer getting the news that she is...       0\n",
              "4  60133  #NoPasaran: Unity demo to oppose the far-right...       1"
            ],
            "text/html": [
              "\n",
              "  <div id=\"df-cf230215-2a3b-4fba-b9bf-0ed6b4ba4519\">\n",
              "    <div class=\"colab-df-container\">\n",
              "      <div>\n",
              "<style scoped>\n",
              "    .dataframe tbody tr th:only-of-type {\n",
              "        vertical-align: middle;\n",
              "    }\n",
              "\n",
              "    .dataframe tbody tr th {\n",
              "        vertical-align: top;\n",
              "    }\n",
              "\n",
              "    .dataframe thead th {\n",
              "        text-align: right;\n",
              "    }\n",
              "</style>\n",
              "<table border=\"1\" class=\"dataframe\">\n",
              "  <thead>\n",
              "    <tr style=\"text-align: right;\">\n",
              "      <th></th>\n",
              "      <th>id</th>\n",
              "      <th>text</th>\n",
              "      <th>labels</th>\n",
              "    </tr>\n",
              "  </thead>\n",
              "  <tbody>\n",
              "    <tr>\n",
              "      <th>0</th>\n",
              "      <td>15923</td>\n",
              "      <td>#WhoIsQ #WheresTheServer #DumpNike #DECLASFISA...</td>\n",
              "      <td>1</td>\n",
              "    </tr>\n",
              "    <tr>\n",
              "      <th>1</th>\n",
              "      <td>27014</td>\n",
              "      <td>#ConstitutionDay is revered by Conservatives, ...</td>\n",
              "      <td>0</td>\n",
              "    </tr>\n",
              "    <tr>\n",
              "      <th>2</th>\n",
              "      <td>30530</td>\n",
              "      <td>#FOXNews #NRA #MAGA #POTUS #TRUMP #2ndAmendmen...</td>\n",
              "      <td>0</td>\n",
              "    </tr>\n",
              "    <tr>\n",
              "      <th>3</th>\n",
              "      <td>13876</td>\n",
              "      <td>#Watching #Boomer getting the news that she is...</td>\n",
              "      <td>0</td>\n",
              "    </tr>\n",
              "    <tr>\n",
              "      <th>4</th>\n",
              "      <td>60133</td>\n",
              "      <td>#NoPasaran: Unity demo to oppose the far-right...</td>\n",
              "      <td>1</td>\n",
              "    </tr>\n",
              "  </tbody>\n",
              "</table>\n",
              "</div>\n",
              "      <button class=\"colab-df-convert\" onclick=\"convertToInteractive('df-cf230215-2a3b-4fba-b9bf-0ed6b4ba4519')\"\n",
              "              title=\"Convert this dataframe to an interactive table.\"\n",
              "              style=\"display:none;\">\n",
              "        \n",
              "  <svg xmlns=\"http://www.w3.org/2000/svg\" height=\"24px\"viewBox=\"0 0 24 24\"\n",
              "       width=\"24px\">\n",
              "    <path d=\"M0 0h24v24H0V0z\" fill=\"none\"/>\n",
              "    <path d=\"M18.56 5.44l.94 2.06.94-2.06 2.06-.94-2.06-.94-.94-2.06-.94 2.06-2.06.94zm-11 1L8.5 8.5l.94-2.06 2.06-.94-2.06-.94L8.5 2.5l-.94 2.06-2.06.94zm10 10l.94 2.06.94-2.06 2.06-.94-2.06-.94-.94-2.06-.94 2.06-2.06.94z\"/><path d=\"M17.41 7.96l-1.37-1.37c-.4-.4-.92-.59-1.43-.59-.52 0-1.04.2-1.43.59L10.3 9.45l-7.72 7.72c-.78.78-.78 2.05 0 2.83L4 21.41c.39.39.9.59 1.41.59.51 0 1.02-.2 1.41-.59l7.78-7.78 2.81-2.81c.8-.78.8-2.07 0-2.86zM5.41 20L4 18.59l7.72-7.72 1.47 1.35L5.41 20z\"/>\n",
              "  </svg>\n",
              "      </button>\n",
              "      \n",
              "  <style>\n",
              "    .colab-df-container {\n",
              "      display:flex;\n",
              "      flex-wrap:wrap;\n",
              "      gap: 12px;\n",
              "    }\n",
              "\n",
              "    .colab-df-convert {\n",
              "      background-color: #E8F0FE;\n",
              "      border: none;\n",
              "      border-radius: 50%;\n",
              "      cursor: pointer;\n",
              "      display: none;\n",
              "      fill: #1967D2;\n",
              "      height: 32px;\n",
              "      padding: 0 0 0 0;\n",
              "      width: 32px;\n",
              "    }\n",
              "\n",
              "    .colab-df-convert:hover {\n",
              "      background-color: #E2EBFA;\n",
              "      box-shadow: 0px 1px 2px rgba(60, 64, 67, 0.3), 0px 1px 3px 1px rgba(60, 64, 67, 0.15);\n",
              "      fill: #174EA6;\n",
              "    }\n",
              "\n",
              "    [theme=dark] .colab-df-convert {\n",
              "      background-color: #3B4455;\n",
              "      fill: #D2E3FC;\n",
              "    }\n",
              "\n",
              "    [theme=dark] .colab-df-convert:hover {\n",
              "      background-color: #434B5C;\n",
              "      box-shadow: 0px 1px 3px 1px rgba(0, 0, 0, 0.15);\n",
              "      filter: drop-shadow(0px 1px 2px rgba(0, 0, 0, 0.3));\n",
              "      fill: #FFFFFF;\n",
              "    }\n",
              "  </style>\n",
              "\n",
              "      <script>\n",
              "        const buttonEl =\n",
              "          document.querySelector('#df-cf230215-2a3b-4fba-b9bf-0ed6b4ba4519 button.colab-df-convert');\n",
              "        buttonEl.style.display =\n",
              "          google.colab.kernel.accessAllowed ? 'block' : 'none';\n",
              "\n",
              "        async function convertToInteractive(key) {\n",
              "          const element = document.querySelector('#df-cf230215-2a3b-4fba-b9bf-0ed6b4ba4519');\n",
              "          const dataTable =\n",
              "            await google.colab.kernel.invokeFunction('convertToInteractive',\n",
              "                                                     [key], {});\n",
              "          if (!dataTable) return;\n",
              "\n",
              "          const docLinkHtml = 'Like what you see? Visit the ' +\n",
              "            '<a target=\"_blank\" href=https://colab.research.google.com/notebooks/data_table.ipynb>data table notebook</a>'\n",
              "            + ' to learn more about interactive tables.';\n",
              "          element.innerHTML = '';\n",
              "          dataTable['output_type'] = 'display_data';\n",
              "          await google.colab.output.renderOutput(dataTable, element);\n",
              "          const docLink = document.createElement('div');\n",
              "          docLink.innerHTML = docLinkHtml;\n",
              "          element.appendChild(docLink);\n",
              "        }\n",
              "      </script>\n",
              "    </div>\n",
              "  </div>\n",
              "  "
            ]
          },
          "metadata": {},
          "execution_count": 8
        }
      ]
    },
    {
      "cell_type": "code",
      "source": [
        "hasoc.head()"
      ],
      "metadata": {
        "colab": {
          "base_uri": "https://localhost:8080/",
          "height": 206
        },
        "id": "HpOunB--Wneq",
        "outputId": "2f7d631d-111f-411e-ec17-286ee7097df1"
      },
      "execution_count": null,
      "outputs": [
        {
          "output_type": "execute_result",
          "data": {
            "text/plain": [
              "           id                                               text  labels\n",
              "0  hasoc_en_1  #DhoniKeepsTheGlove | WATCH: Sports Minister K...       0\n",
              "1  hasoc_en_2  @politico No. We should remember very clearly ...       1\n",
              "2  hasoc_en_3  @cricketworldcup Guess who would be the winner...       0\n",
              "3  hasoc_en_4  Corbyn is too politically intellectual for #Bo...       0\n",
              "4  hasoc_en_5  All the best to #TeamIndia for another swimmin...       0"
            ],
            "text/html": [
              "\n",
              "  <div id=\"df-21b850c3-8c83-4a92-9d82-7ee15d02fb9b\">\n",
              "    <div class=\"colab-df-container\">\n",
              "      <div>\n",
              "<style scoped>\n",
              "    .dataframe tbody tr th:only-of-type {\n",
              "        vertical-align: middle;\n",
              "    }\n",
              "\n",
              "    .dataframe tbody tr th {\n",
              "        vertical-align: top;\n",
              "    }\n",
              "\n",
              "    .dataframe thead th {\n",
              "        text-align: right;\n",
              "    }\n",
              "</style>\n",
              "<table border=\"1\" class=\"dataframe\">\n",
              "  <thead>\n",
              "    <tr style=\"text-align: right;\">\n",
              "      <th></th>\n",
              "      <th>id</th>\n",
              "      <th>text</th>\n",
              "      <th>labels</th>\n",
              "    </tr>\n",
              "  </thead>\n",
              "  <tbody>\n",
              "    <tr>\n",
              "      <th>0</th>\n",
              "      <td>hasoc_en_1</td>\n",
              "      <td>#DhoniKeepsTheGlove | WATCH: Sports Minister K...</td>\n",
              "      <td>0</td>\n",
              "    </tr>\n",
              "    <tr>\n",
              "      <th>1</th>\n",
              "      <td>hasoc_en_2</td>\n",
              "      <td>@politico No. We should remember very clearly ...</td>\n",
              "      <td>1</td>\n",
              "    </tr>\n",
              "    <tr>\n",
              "      <th>2</th>\n",
              "      <td>hasoc_en_3</td>\n",
              "      <td>@cricketworldcup Guess who would be the winner...</td>\n",
              "      <td>0</td>\n",
              "    </tr>\n",
              "    <tr>\n",
              "      <th>3</th>\n",
              "      <td>hasoc_en_4</td>\n",
              "      <td>Corbyn is too politically intellectual for #Bo...</td>\n",
              "      <td>0</td>\n",
              "    </tr>\n",
              "    <tr>\n",
              "      <th>4</th>\n",
              "      <td>hasoc_en_5</td>\n",
              "      <td>All the best to #TeamIndia for another swimmin...</td>\n",
              "      <td>0</td>\n",
              "    </tr>\n",
              "  </tbody>\n",
              "</table>\n",
              "</div>\n",
              "      <button class=\"colab-df-convert\" onclick=\"convertToInteractive('df-21b850c3-8c83-4a92-9d82-7ee15d02fb9b')\"\n",
              "              title=\"Convert this dataframe to an interactive table.\"\n",
              "              style=\"display:none;\">\n",
              "        \n",
              "  <svg xmlns=\"http://www.w3.org/2000/svg\" height=\"24px\"viewBox=\"0 0 24 24\"\n",
              "       width=\"24px\">\n",
              "    <path d=\"M0 0h24v24H0V0z\" fill=\"none\"/>\n",
              "    <path d=\"M18.56 5.44l.94 2.06.94-2.06 2.06-.94-2.06-.94-.94-2.06-.94 2.06-2.06.94zm-11 1L8.5 8.5l.94-2.06 2.06-.94-2.06-.94L8.5 2.5l-.94 2.06-2.06.94zm10 10l.94 2.06.94-2.06 2.06-.94-2.06-.94-.94-2.06-.94 2.06-2.06.94z\"/><path d=\"M17.41 7.96l-1.37-1.37c-.4-.4-.92-.59-1.43-.59-.52 0-1.04.2-1.43.59L10.3 9.45l-7.72 7.72c-.78.78-.78 2.05 0 2.83L4 21.41c.39.39.9.59 1.41.59.51 0 1.02-.2 1.41-.59l7.78-7.78 2.81-2.81c.8-.78.8-2.07 0-2.86zM5.41 20L4 18.59l7.72-7.72 1.47 1.35L5.41 20z\"/>\n",
              "  </svg>\n",
              "      </button>\n",
              "      \n",
              "  <style>\n",
              "    .colab-df-container {\n",
              "      display:flex;\n",
              "      flex-wrap:wrap;\n",
              "      gap: 12px;\n",
              "    }\n",
              "\n",
              "    .colab-df-convert {\n",
              "      background-color: #E8F0FE;\n",
              "      border: none;\n",
              "      border-radius: 50%;\n",
              "      cursor: pointer;\n",
              "      display: none;\n",
              "      fill: #1967D2;\n",
              "      height: 32px;\n",
              "      padding: 0 0 0 0;\n",
              "      width: 32px;\n",
              "    }\n",
              "\n",
              "    .colab-df-convert:hover {\n",
              "      background-color: #E2EBFA;\n",
              "      box-shadow: 0px 1px 2px rgba(60, 64, 67, 0.3), 0px 1px 3px 1px rgba(60, 64, 67, 0.15);\n",
              "      fill: #174EA6;\n",
              "    }\n",
              "\n",
              "    [theme=dark] .colab-df-convert {\n",
              "      background-color: #3B4455;\n",
              "      fill: #D2E3FC;\n",
              "    }\n",
              "\n",
              "    [theme=dark] .colab-df-convert:hover {\n",
              "      background-color: #434B5C;\n",
              "      box-shadow: 0px 1px 3px 1px rgba(0, 0, 0, 0.15);\n",
              "      filter: drop-shadow(0px 1px 2px rgba(0, 0, 0, 0.3));\n",
              "      fill: #FFFFFF;\n",
              "    }\n",
              "  </style>\n",
              "\n",
              "      <script>\n",
              "        const buttonEl =\n",
              "          document.querySelector('#df-21b850c3-8c83-4a92-9d82-7ee15d02fb9b button.colab-df-convert');\n",
              "        buttonEl.style.display =\n",
              "          google.colab.kernel.accessAllowed ? 'block' : 'none';\n",
              "\n",
              "        async function convertToInteractive(key) {\n",
              "          const element = document.querySelector('#df-21b850c3-8c83-4a92-9d82-7ee15d02fb9b');\n",
              "          const dataTable =\n",
              "            await google.colab.kernel.invokeFunction('convertToInteractive',\n",
              "                                                     [key], {});\n",
              "          if (!dataTable) return;\n",
              "\n",
              "          const docLinkHtml = 'Like what you see? Visit the ' +\n",
              "            '<a target=\"_blank\" href=https://colab.research.google.com/notebooks/data_table.ipynb>data table notebook</a>'\n",
              "            + ' to learn more about interactive tables.';\n",
              "          element.innerHTML = '';\n",
              "          dataTable['output_type'] = 'display_data';\n",
              "          await google.colab.output.renderOutput(dataTable, element);\n",
              "          const docLink = document.createElement('div');\n",
              "          docLink.innerHTML = docLinkHtml;\n",
              "          element.appendChild(docLink);\n",
              "        }\n",
              "      </script>\n",
              "    </div>\n",
              "  </div>\n",
              "  "
            ]
          },
          "metadata": {},
          "execution_count": 9
        }
      ]
    },
    {
      "cell_type": "code",
      "source": [
        "olid_train.head()"
      ],
      "metadata": {
        "colab": {
          "base_uri": "https://localhost:8080/",
          "height": 206
        },
        "id": "z3GfYg2MWpha",
        "outputId": "3c1503ea-1435-4001-a021-d165aa9ec0dc"
      },
      "execution_count": null,
      "outputs": [
        {
          "output_type": "execute_result",
          "data": {
            "text/plain": [
              "      id                                               text  labels\n",
              "0  24590  @USER @USER @USER @USER @USER Hahah a left tel...       0\n",
              "1  19287  @USER @USER I’m glad you do babe (I kiss you b...       0\n",
              "2  44676          @USER And I have concerns with”Democrats”       0\n",
              "3  96110                             @USER AS IT SHOULD BE!       0\n",
              "4  51557  @USER @USER A horrendous act of course. Conser...       1"
            ],
            "text/html": [
              "\n",
              "  <div id=\"df-a0efee15-372b-44ac-8699-d4c475a6f59f\">\n",
              "    <div class=\"colab-df-container\">\n",
              "      <div>\n",
              "<style scoped>\n",
              "    .dataframe tbody tr th:only-of-type {\n",
              "        vertical-align: middle;\n",
              "    }\n",
              "\n",
              "    .dataframe tbody tr th {\n",
              "        vertical-align: top;\n",
              "    }\n",
              "\n",
              "    .dataframe thead th {\n",
              "        text-align: right;\n",
              "    }\n",
              "</style>\n",
              "<table border=\"1\" class=\"dataframe\">\n",
              "  <thead>\n",
              "    <tr style=\"text-align: right;\">\n",
              "      <th></th>\n",
              "      <th>id</th>\n",
              "      <th>text</th>\n",
              "      <th>labels</th>\n",
              "    </tr>\n",
              "  </thead>\n",
              "  <tbody>\n",
              "    <tr>\n",
              "      <th>0</th>\n",
              "      <td>24590</td>\n",
              "      <td>@USER @USER @USER @USER @USER Hahah a left tel...</td>\n",
              "      <td>0</td>\n",
              "    </tr>\n",
              "    <tr>\n",
              "      <th>1</th>\n",
              "      <td>19287</td>\n",
              "      <td>@USER @USER I’m glad you do babe (I kiss you b...</td>\n",
              "      <td>0</td>\n",
              "    </tr>\n",
              "    <tr>\n",
              "      <th>2</th>\n",
              "      <td>44676</td>\n",
              "      <td>@USER And I have concerns with”Democrats”</td>\n",
              "      <td>0</td>\n",
              "    </tr>\n",
              "    <tr>\n",
              "      <th>3</th>\n",
              "      <td>96110</td>\n",
              "      <td>@USER AS IT SHOULD BE!</td>\n",
              "      <td>0</td>\n",
              "    </tr>\n",
              "    <tr>\n",
              "      <th>4</th>\n",
              "      <td>51557</td>\n",
              "      <td>@USER @USER A horrendous act of course. Conser...</td>\n",
              "      <td>1</td>\n",
              "    </tr>\n",
              "  </tbody>\n",
              "</table>\n",
              "</div>\n",
              "      <button class=\"colab-df-convert\" onclick=\"convertToInteractive('df-a0efee15-372b-44ac-8699-d4c475a6f59f')\"\n",
              "              title=\"Convert this dataframe to an interactive table.\"\n",
              "              style=\"display:none;\">\n",
              "        \n",
              "  <svg xmlns=\"http://www.w3.org/2000/svg\" height=\"24px\"viewBox=\"0 0 24 24\"\n",
              "       width=\"24px\">\n",
              "    <path d=\"M0 0h24v24H0V0z\" fill=\"none\"/>\n",
              "    <path d=\"M18.56 5.44l.94 2.06.94-2.06 2.06-.94-2.06-.94-.94-2.06-.94 2.06-2.06.94zm-11 1L8.5 8.5l.94-2.06 2.06-.94-2.06-.94L8.5 2.5l-.94 2.06-2.06.94zm10 10l.94 2.06.94-2.06 2.06-.94-2.06-.94-.94-2.06-.94 2.06-2.06.94z\"/><path d=\"M17.41 7.96l-1.37-1.37c-.4-.4-.92-.59-1.43-.59-.52 0-1.04.2-1.43.59L10.3 9.45l-7.72 7.72c-.78.78-.78 2.05 0 2.83L4 21.41c.39.39.9.59 1.41.59.51 0 1.02-.2 1.41-.59l7.78-7.78 2.81-2.81c.8-.78.8-2.07 0-2.86zM5.41 20L4 18.59l7.72-7.72 1.47 1.35L5.41 20z\"/>\n",
              "  </svg>\n",
              "      </button>\n",
              "      \n",
              "  <style>\n",
              "    .colab-df-container {\n",
              "      display:flex;\n",
              "      flex-wrap:wrap;\n",
              "      gap: 12px;\n",
              "    }\n",
              "\n",
              "    .colab-df-convert {\n",
              "      background-color: #E8F0FE;\n",
              "      border: none;\n",
              "      border-radius: 50%;\n",
              "      cursor: pointer;\n",
              "      display: none;\n",
              "      fill: #1967D2;\n",
              "      height: 32px;\n",
              "      padding: 0 0 0 0;\n",
              "      width: 32px;\n",
              "    }\n",
              "\n",
              "    .colab-df-convert:hover {\n",
              "      background-color: #E2EBFA;\n",
              "      box-shadow: 0px 1px 2px rgba(60, 64, 67, 0.3), 0px 1px 3px 1px rgba(60, 64, 67, 0.15);\n",
              "      fill: #174EA6;\n",
              "    }\n",
              "\n",
              "    [theme=dark] .colab-df-convert {\n",
              "      background-color: #3B4455;\n",
              "      fill: #D2E3FC;\n",
              "    }\n",
              "\n",
              "    [theme=dark] .colab-df-convert:hover {\n",
              "      background-color: #434B5C;\n",
              "      box-shadow: 0px 1px 3px 1px rgba(0, 0, 0, 0.15);\n",
              "      filter: drop-shadow(0px 1px 2px rgba(0, 0, 0, 0.3));\n",
              "      fill: #FFFFFF;\n",
              "    }\n",
              "  </style>\n",
              "\n",
              "      <script>\n",
              "        const buttonEl =\n",
              "          document.querySelector('#df-a0efee15-372b-44ac-8699-d4c475a6f59f button.colab-df-convert');\n",
              "        buttonEl.style.display =\n",
              "          google.colab.kernel.accessAllowed ? 'block' : 'none';\n",
              "\n",
              "        async function convertToInteractive(key) {\n",
              "          const element = document.querySelector('#df-a0efee15-372b-44ac-8699-d4c475a6f59f');\n",
              "          const dataTable =\n",
              "            await google.colab.kernel.invokeFunction('convertToInteractive',\n",
              "                                                     [key], {});\n",
              "          if (!dataTable) return;\n",
              "\n",
              "          const docLinkHtml = 'Like what you see? Visit the ' +\n",
              "            '<a target=\"_blank\" href=https://colab.research.google.com/notebooks/data_table.ipynb>data table notebook</a>'\n",
              "            + ' to learn more about interactive tables.';\n",
              "          element.innerHTML = '';\n",
              "          dataTable['output_type'] = 'display_data';\n",
              "          await google.colab.output.renderOutput(dataTable, element);\n",
              "          const docLink = document.createElement('div');\n",
              "          docLink.innerHTML = docLinkHtml;\n",
              "          element.appendChild(docLink);\n",
              "        }\n",
              "      </script>\n",
              "    </div>\n",
              "  </div>\n",
              "  "
            ]
          },
          "metadata": {},
          "execution_count": 10
        }
      ]
    },
    {
      "cell_type": "code",
      "source": [
        "stopwords = set(stopwords.words(\"english\"))"
      ],
      "metadata": {
        "id": "967--SLUsPda"
      },
      "execution_count": null,
      "outputs": []
    },
    {
      "cell_type": "code",
      "source": [
        "def remove_stopwords(text):\n",
        "    filtered_words = [word.lower() for word in text.split() if word.lower() not in stopwords]\n",
        "    return \" \".join(filtered_words)\n",
        "\n",
        "# removing numbers and punctuations\n",
        "\n",
        "def preprocess(text):\n",
        "    text_input = re.sub(r'!', ' ', str(text))\n",
        "    text_input = re.sub(r'[0-9]+', '', str(text_input))\n",
        "    text_input = text_input.replace('<br /><br />', '')\n",
        "    text_input = text_input.replace('(', '')\n",
        "    text_input = text_input.replace('\"', '')\n",
        "    text_input = text_input.replace('$', '')\n",
        "    text_input = text_input.replace('*', '')\n",
        "    text_input = text_input.replace('.', '')\n",
        "    text_input = text_input.replace('/', '')\n",
        "    text_input = text_input.replace(':', '')\n",
        "    text_input = text_input.replace('?', '')\n",
        "    text_input = text_input.replace(',', '')\n",
        "    text_input = text_input.replace('---', '')\n",
        "    text_input = text_input.replace(\"\"\"'\"\"\", '')\n",
        "    output = text_input.replace(')', '')\n",
        "    return output.lower().strip()"
      ],
      "metadata": {
        "id": "Ip4ZuzSjWrAR"
      },
      "execution_count": null,
      "outputs": []
    },
    {
      "cell_type": "code",
      "source": [
        "olid_train['text'] = olid_train.text.map(remove_stopwords)\n",
        "olid_train['text'] = olid_train.text.map(preprocess)\n",
        "olid_test['text'] = olid_test.text.map(remove_stopwords)\n",
        "olid_test['text'] = olid_test.text.map(preprocess)\n",
        "hasoc['text'] = hasoc.text.map(remove_stopwords)\n",
        "hasoc['text'] = hasoc.text.map(preprocess)"
      ],
      "metadata": {
        "id": "e0PRlXiEsSVd"
      },
      "execution_count": null,
      "outputs": []
    },
    {
      "cell_type": "code",
      "source": [
        "filtered_olid_train = olid_train['text']\n",
        "filtered_olid_test = olid_test['text']\n",
        "filtered_hasoc = hasoc['text']"
      ],
      "metadata": {
        "id": "F93oi5nMs8pD"
      },
      "execution_count": null,
      "outputs": []
    },
    {
      "cell_type": "code",
      "source": [
        "filtered_olid_train.to_csv('filtered_olid_train.csv', encoding = 'utf8')\n",
        "filtered_olid_test.to_csv('filtered_olid_test.csv', encoding = 'utf8')\n",
        "filtered_hasoc.to_csv('filtered_hasoc.csv', encoding = 'utf8')"
      ],
      "metadata": {
        "id": "1H5OjhDetVk0"
      },
      "execution_count": null,
      "outputs": []
    },
    {
      "cell_type": "code",
      "source": [
        "print(filtered_olid_train)"
      ],
      "metadata": {
        "colab": {
          "base_uri": "https://localhost:8080/"
        },
        "id": "0aBi4z1evMm7",
        "outputId": "a1a1b43d-c155-4e62-f161-c7b9eabbb41a"
      },
      "execution_count": null,
      "outputs": [
        {
          "output_type": "stream",
          "name": "stdout",
          "text": [
            "0       @user @user @user @user @user hahah left telli...\n",
            "1       @user @user i’m glad babe i kiss back let’s ge...\n",
            "2                          @user concerns with”democrats”\n",
            "3                                                @user be\n",
            "4       @user @user horrendous act course conservative...\n",
            "                              ...                        \n",
            "5847    @user information fully investigated considere...\n",
            "5848    #morningjoe closer gets monday louder liberals...\n",
            "5849    @user @user long time prisoners also hard time...\n",
            "5850    @user @user wasn’t long ago taboo left involve...\n",
            "5851                                @user beautiful there\n",
            "Name: text, Length: 5852, dtype: object\n"
          ]
        }
      ]
    },
    {
      "cell_type": "code",
      "source": [
        "lens_filtered_olid_train = filtered_olid_train.str.split().apply(lambda x: len(x))\n",
        "lens_filtered_olid_test = filtered_olid_test.str.split().apply(lambda x: len(x))\n",
        "lens_filtered_hasoc = filtered_hasoc.str.split().apply(lambda x: len(x))\n"
      ],
      "metadata": {
        "id": "OI98nyjZun1A"
      },
      "execution_count": null,
      "outputs": []
    },
    {
      "cell_type": "code",
      "source": [
        "matplotlib.rcParams.update({'font.size': 25})"
      ],
      "metadata": {
        "id": "IBm5Sqqjk3s4"
      },
      "execution_count": null,
      "outputs": []
    },
    {
      "cell_type": "code",
      "source": [
        "\n",
        "print(lens_filtered_olid_train.describe())\n",
        "# the histogram of the data\n",
        "x, bins, p = plt.hist(lens_filtered_olid_train, bins = 30, density=True)\n",
        "\n",
        "\n",
        "plt.xlabel('Length of Sentence')\n",
        "plt.ylabel('Probability')\n",
        "plt.title('Histogram of lenght of sentences')\n",
        "#plt.text(60, .025, r'$\\mu=100,\\ \\sigma=15$')\n",
        "plt.xlim(0, 40)\n",
        "plt.ylim(0, 0.07)\n",
        "#plt.grid(True)\n",
        "plt.show()"
      ],
      "metadata": {
        "colab": {
          "base_uri": "https://localhost:8080/",
          "height": 497
        },
        "id": "0Xxa-WL3XI5q",
        "outputId": "e3bf0760-cc54-4392-ad0a-6fff639bc3fc"
      },
      "execution_count": null,
      "outputs": [
        {
          "output_type": "stream",
          "name": "stdout",
          "text": [
            "count    5852.000000\n",
            "mean       13.536227\n",
            "std         9.374446\n",
            "min         1.000000\n",
            "25%         6.000000\n",
            "50%        11.000000\n",
            "75%        19.000000\n",
            "max        75.000000\n",
            "Name: text, dtype: float64\n"
          ]
        },
        {
          "output_type": "display_data",
          "data": {
            "text/plain": [
              "<Figure size 432x288 with 1 Axes>"
            ],
            "image/png": "[encoded data removed]"
          },
          "metadata": {
            "needs_background": "light"
          }
        }
      ]
    },
    {
      "cell_type": "code",
      "source": [],
      "metadata": {
        "id": "gXpnA8FA1tfK"
      },
      "execution_count": null,
      "outputs": []
    },
    {
      "cell_type": "code",
      "source": [
        "print(lens_filtered_olid_test.describe())\n",
        "x, bins, p = plt.hist(lens_filtered_olid_test,bins = 30,  density=True)\n",
        "\n",
        "\n",
        "plt.xlabel('Length of Sentence')\n",
        "plt.ylabel('Probability')\n",
        "plt.title('Histogram of lenght of sentences')\n",
        "#plt.text(60, .025, r'$\\mu=100,\\ \\sigma=15$')\n",
        "plt.xlim(0, 40)\n",
        "plt.ylim(0, 0.07)\n",
        "#plt.grid(True)\n",
        "plt.show()"
      ],
      "metadata": {
        "colab": {
          "base_uri": "https://localhost:8080/",
          "height": 497
        },
        "id": "LPMe_8QHwmLZ",
        "outputId": "cb179e0b-8448-4c10-d7f0-9cdfae0616b6"
      },
      "execution_count": null,
      "outputs": [
        {
          "output_type": "stream",
          "name": "stdout",
          "text": [
            "count    860.000000\n",
            "mean      14.894186\n",
            "std        7.811172\n",
            "min        1.000000\n",
            "25%        8.000000\n",
            "50%       14.000000\n",
            "75%       21.000000\n",
            "max       41.000000\n",
            "Name: text, dtype: float64\n"
          ]
        },
        {
          "output_type": "display_data",
          "data": {
            "text/plain": [
              "<Figure size 432x288 with 1 Axes>"
            ],
            "image/png": "[encoded data removed]"
          },
          "metadata": {
            "needs_background": "light"
          }
        }
      ]
    },
    {
      "cell_type": "code",
      "source": [
        "print(lens_filtered_hasoc.describe())\n",
        "x, bins, p = plt.hist(lens_filtered_hasoc,bins = 30,  density=True)\n",
        "\n",
        "\n",
        "plt.xlabel('Length of Sentence')\n",
        "plt.ylabel('Probability')\n",
        "plt.title('Histogram of lenght of sentences')\n",
        "#plt.text(60, .025, r'$\\mu=100,\\ \\sigma=15$')\n",
        "plt.xlim(0, 40)\n",
        "plt.ylim(0, 0.07)\n",
        "#plt.grid(True)\n",
        "plt.show()"
      ],
      "metadata": {
        "colab": {
          "base_uri": "https://localhost:8080/",
          "height": 497
        },
        "id": "JWEGate1w5x7",
        "outputId": "6d661333-939c-4a62-cd08-a89c1c720642"
      },
      "execution_count": null,
      "outputs": [
        {
          "output_type": "stream",
          "name": "stdout",
          "text": [
            "count    5852.000000\n",
            "mean       15.100649\n",
            "std         7.677882\n",
            "min         1.000000\n",
            "25%         9.000000\n",
            "50%        14.000000\n",
            "75%        21.000000\n",
            "max        77.000000\n",
            "Name: text, dtype: float64\n"
          ]
        },
        {
          "output_type": "display_data",
          "data": {
            "text/plain": [
              "<Figure size 432x288 with 1 Axes>"
            ],
            "image/png": "[encoded data removed]"
          },
          "metadata": {
            "needs_background": "light"
          }
        }
      ]
    },
    {
      "cell_type": "code",
      "source": [
        "filtered_olid_test.str.extractall(r'(\\#\\w+)')[0].value_counts().head(20).plot.bar()\n"
      ],
      "metadata": {
        "colab": {
          "base_uri": "https://localhost:8080/",
          "height": 369
        },
        "id": "JF57Ov_AygmP",
        "outputId": "53cc0608-badc-45e2-88cf-9e585830a2f6"
      },
      "execution_count": null,
      "outputs": [
        {
          "output_type": "execute_result",
          "data": {
            "text/plain": [
              "<matplotlib.axes._subplots.AxesSubplot at 0x7fec92801790>"
            ]
          },
          "metadata": {},
          "execution_count": 25
        },
        {
          "output_type": "display_data",
          "data": {
            "text/plain": [
              "<Figure size 432x288 with 1 Axes>"
            ],
            "image/png": "[encoded data removed]"
          },
          "metadata": {
            "needs_background": "light"
          }
        }
      ]
    },
    {
      "cell_type": "code",
      "source": [
        "filtered_hasoc.str.extractall(r'(\\#\\w+)')[0].value_counts().head(20).plot.bar()"
      ],
      "metadata": {
        "colab": {
          "base_uri": "https://localhost:8080/",
          "height": 425
        },
        "id": "glAFWjfmyqFZ",
        "outputId": "ffe6e9d1-db54-4cd7-f234-228de1a25fa4"
      },
      "execution_count": null,
      "outputs": [
        {
          "output_type": "execute_result",
          "data": {
            "text/plain": [
              "<matplotlib.axes._subplots.AxesSubplot at 0x7fec92298090>"
            ]
          },
          "metadata": {},
          "execution_count": 26
        },
        {
          "output_type": "display_data",
          "data": {
            "text/plain": [
              "<Figure size 432x288 with 1 Axes>"
            ],
            "image/png": "[encoded data removed]"
          },
          "metadata": {
            "needs_background": "light"
          }
        }
      ]
    },
    {
      "cell_type": "code",
      "source": [
        "from nltk.corpus import stopwords\n",
        "stop = set(stopwords.words(\"english\"))\n",
        "stop.add('@user')\n",
        "stop.add('url')\n",
        "stop.add('-')\n",
        "corpus = [word for i in filtered_olid_test.str.split().values.tolist() for word in i if (word not in stop)]"
      ],
      "metadata": {
        "id": "dTNZNSuNzzlM"
      },
      "execution_count": null,
      "outputs": []
    },
    {
      "cell_type": "code",
      "source": [
        "from nltk.probability import FreqDist\n",
        "most_common_olid_test = FreqDist(corpus).most_common(20)"
      ],
      "metadata": {
        "id": "wD4mtDyYxeUP"
      },
      "execution_count": null,
      "outputs": []
    },
    {
      "cell_type": "code",
      "source": [
        "most_common_olid_test"
      ],
      "metadata": {
        "id": "ZQLgDEKX0jRW",
        "colab": {
          "base_uri": "https://localhost:8080/"
        },
        "outputId": "6952bfa0-bc24-4e9d-abcb-5d36c4e387de"
      },
      "execution_count": null,
      "outputs": [
        {
          "output_type": "execute_result",
          "data": {
            "text/plain": [
              "[('like', 64),\n",
              " ('control', 62),\n",
              " ('gun', 61),\n",
              " ('#maga', 56),\n",
              " ('get', 50),\n",
              " ('one', 48),\n",
              " ('us', 47),\n",
              " ('#conservatives', 45),\n",
              " ('people', 44),\n",
              " ('liberals', 42),\n",
              " ('antifa', 39),\n",
              " ('#liberals', 39),\n",
              " ('want', 37),\n",
              " ('love', 35),\n",
              " ('conservatives', 34),\n",
              " ('#antifa', 34),\n",
              " ('via', 34),\n",
              " ('know', 31),\n",
              " ('good', 31),\n",
              " ('new', 30)]"
            ]
          },
          "metadata": {},
          "execution_count": 195
        }
      ]
    },
    {
      "cell_type": "code",
      "source": [
        "import seaborn as sns"
      ],
      "metadata": {
        "id": "LzpIKDogxldw"
      },
      "execution_count": null,
      "outputs": []
    },
    {
      "cell_type": "code",
      "source": [
        "sns.set(rc={'figure.figsize':(11.7,8.27)})\n",
        "words, frequency = [], []\n",
        "for word, count in most_common_olid_test:\n",
        "    words.append(word)\n",
        "    frequency.append(count)\n",
        "sns.set(font_scale = 2.5)\n",
        "#sns.barplot(x = frequency, y = words).set(title='Frequency of words in OLID Test')\n",
        "olte_words = words[:15]"
      ],
      "metadata": {
        "id": "3LUz24LZxX2S"
      },
      "execution_count": null,
      "outputs": []
    },
    {
      "cell_type": "code",
      "source": [
        "stop = set(stopwords.words(\"english\"))\n",
        "stop.add('@user')\n",
        "stop.add('url')\n",
        "stop.add('-')\n",
        "corpus = [word for i in filtered_olid_train.str.split().values.tolist() for word in i if (word not in stop)]\n",
        "most_common_olid_train = FreqDist(corpus).most_common(20)\n",
        "sns.set(rc={'figure.figsize':(11.7,8.27)})\n",
        "words, frequency = [], []\n",
        "for word, count in most_common_olid_train:\n",
        "    words.append(word)\n",
        "    frequency.append(count)\n",
        "sns.set(font_scale = 2.5)\n",
        "#sns.barplot(x = frequency, y = words).set(title='Frequency of words in OLID Train')\n",
        "oltr_words = words[:15]"
      ],
      "metadata": {
        "id": "FSDIIPr5x5lQ"
      },
      "execution_count": null,
      "outputs": []
    },
    {
      "cell_type": "code",
      "source": [
        "stop = set(stopwords.words(\"english\"))\n",
        "stop.add('@user')\n",
        "stop.add('url')\n",
        "stop.add('-')\n",
        "corpus = [word for i in filtered_hasoc.str.split().values.tolist() for word in i if (word not in stop)]\n",
        "most_common_hasoc = FreqDist(corpus).most_common(20)\n",
        "sns.set(rc={'figure.figsize':(11.7,8.27)})\n",
        "words, frequency = [], []\n",
        "for word, count in most_common_hasoc:\n",
        "    words.append(word)\n",
        "    frequency.append(count)\n",
        "sns.set(font_scale = 2.5)\n",
        "#sns.barplot(x = frequency, y = words).set(title='Frequency of words in HASOC')\n",
        "has_words = words[:15]"
      ],
      "metadata": {
        "id": "ouS6k12Fzzu4"
      },
      "execution_count": null,
      "outputs": []
    },
    {
      "cell_type": "code",
      "source": [
        "olte_words\n",
        "d = {'OLID TEST': olte_words, 'OLID TRAIN': oltr_words, 'HASOC': has_words}\n",
        "df= pd.DataFrame(d)\n",
        "df"
      ],
      "metadata": {
        "colab": {
          "base_uri": "https://localhost:8080/",
          "height": 519
        },
        "id": "8WJuYeKqSf2u",
        "outputId": "e20479c7-126c-45c5-b69b-bf738b43d8a4"
      },
      "execution_count": null,
      "outputs": [
        {
          "output_type": "execute_result",
          "data": {
            "text/plain": [
              "         OLID TEST     OLID TRAIN                       HASOC\n",
              "0             like            gun                  #fucktrump\n",
              "1          control       liberals            #trumpisatraitor\n",
              "2              gun        control            @realdonaldtrump\n",
              "3            #maga           like           #doctorsfightback\n",
              "4              get         antifa                 #shameonicc\n",
              "5              one         people         #dhonikeepstheglove\n",
              "6               us  conservatives                        @icc\n",
              "7   #conservatives          #maga                       trump\n",
              "8           people            get                       &amp;\n",
              "9         liberals           know                     doctors\n",
              "10          antifa            one  #borisjohnsonshouldnotbepm\n",
              "11       #liberals          &amp;                   #murderer\n",
              "12            want          would                      people\n",
              "13            love          think                       world\n",
              "14   conservatives          trump                        like"
            ],
            "text/html": [
              "\n",
              "  <div id=\"df-3d63e887-7752-4c63-9ffe-f3aeda74a65d\">\n",
              "    <div class=\"colab-df-container\">\n",
              "      <div>\n",
              "<style scoped>\n",
              "    .dataframe tbody tr th:only-of-type {\n",
              "        vertical-align: middle;\n",
              "    }\n",
              "\n",
              "    .dataframe tbody tr th {\n",
              "        vertical-align: top;\n",
              "    }\n",
              "\n",
              "    .dataframe thead th {\n",
              "        text-align: right;\n",
              "    }\n",
              "</style>\n",
              "<table border=\"1\" class=\"dataframe\">\n",
              "  <thead>\n",
              "    <tr style=\"text-align: right;\">\n",
              "      <th></th>\n",
              "      <th>OLID TEST</th>\n",
              "      <th>OLID TRAIN</th>\n",
              "      <th>HASOC</th>\n",
              "    </tr>\n",
              "  </thead>\n",
              "  <tbody>\n",
              "    <tr>\n",
              "      <th>0</th>\n",
              "      <td>like</td>\n",
              "      <td>gun</td>\n",
              "      <td>#fucktrump</td>\n",
              "    </tr>\n",
              "    <tr>\n",
              "      <th>1</th>\n",
              "      <td>control</td>\n",
              "      <td>liberals</td>\n",
              "      <td>#trumpisatraitor</td>\n",
              "    </tr>\n",
              "    <tr>\n",
              "      <th>2</th>\n",
              "      <td>gun</td>\n",
              "      <td>control</td>\n",
              "      <td>@realdonaldtrump</td>\n",
              "    </tr>\n",
              "    <tr>\n",
              "      <th>3</th>\n",
              "      <td>#maga</td>\n",
              "      <td>like</td>\n",
              "      <td>#doctorsfightback</td>\n",
              "    </tr>\n",
              "    <tr>\n",
              "      <th>4</th>\n",
              "      <td>get</td>\n",
              "      <td>antifa</td>\n",
              "      <td>#shameonicc</td>\n",
              "    </tr>\n",
              "    <tr>\n",
              "      <th>5</th>\n",
              "      <td>one</td>\n",
              "      <td>people</td>\n",
              "      <td>#dhonikeepstheglove</td>\n",
              "    </tr>\n",
              "    <tr>\n",
              "      <th>6</th>\n",
              "      <td>us</td>\n",
              "      <td>conservatives</td>\n",
              "      <td>@icc</td>\n",
              "    </tr>\n",
              "    <tr>\n",
              "      <th>7</th>\n",
              "      <td>#conservatives</td>\n",
              "      <td>#maga</td>\n",
              "      <td>trump</td>\n",
              "    </tr>\n",
              "    <tr>\n",
              "      <th>8</th>\n",
              "      <td>people</td>\n",
              "      <td>get</td>\n",
              "      <td>&amp;amp;</td>\n",
              "    </tr>\n",
              "    <tr>\n",
              "      <th>9</th>\n",
              "      <td>liberals</td>\n",
              "      <td>know</td>\n",
              "      <td>doctors</td>\n",
              "    </tr>\n",
              "    <tr>\n",
              "      <th>10</th>\n",
              "      <td>antifa</td>\n",
              "      <td>one</td>\n",
              "      <td>#borisjohnsonshouldnotbepm</td>\n",
              "    </tr>\n",
              "    <tr>\n",
              "      <th>11</th>\n",
              "      <td>#liberals</td>\n",
              "      <td>&amp;amp;</td>\n",
              "      <td>#murderer</td>\n",
              "    </tr>\n",
              "    <tr>\n",
              "      <th>12</th>\n",
              "      <td>want</td>\n",
              "      <td>would</td>\n",
              "      <td>people</td>\n",
              "    </tr>\n",
              "    <tr>\n",
              "      <th>13</th>\n",
              "      <td>love</td>\n",
              "      <td>think</td>\n",
              "      <td>world</td>\n",
              "    </tr>\n",
              "    <tr>\n",
              "      <th>14</th>\n",
              "      <td>conservatives</td>\n",
              "      <td>trump</td>\n",
              "      <td>like</td>\n",
              "    </tr>\n",
              "  </tbody>\n",
              "</table>\n",
              "</div>\n",
              "      <button class=\"colab-df-convert\" onclick=\"convertToInteractive('df-3d63e887-7752-4c63-9ffe-f3aeda74a65d')\"\n",
              "              title=\"Convert this dataframe to an interactive table.\"\n",
              "              style=\"display:none;\">\n",
              "        \n",
              "  <svg xmlns=\"http://www.w3.org/2000/svg\" height=\"24px\"viewBox=\"0 0 24 24\"\n",
              "       width=\"24px\">\n",
              "    <path d=\"M0 0h24v24H0V0z\" fill=\"none\"/>\n",
              "    <path d=\"M18.56 5.44l.94 2.06.94-2.06 2.06-.94-2.06-.94-.94-2.06-.94 2.06-2.06.94zm-11 1L8.5 8.5l.94-2.06 2.06-.94-2.06-.94L8.5 2.5l-.94 2.06-2.06.94zm10 10l.94 2.06.94-2.06 2.06-.94-2.06-.94-.94-2.06-.94 2.06-2.06.94z\"/><path d=\"M17.41 7.96l-1.37-1.37c-.4-.4-.92-.59-1.43-.59-.52 0-1.04.2-1.43.59L10.3 9.45l-7.72 7.72c-.78.78-.78 2.05 0 2.83L4 21.41c.39.39.9.59 1.41.59.51 0 1.02-.2 1.41-.59l7.78-7.78 2.81-2.81c.8-.78.8-2.07 0-2.86zM5.41 20L4 18.59l7.72-7.72 1.47 1.35L5.41 20z\"/>\n",
              "  </svg>\n",
              "      </button>\n",
              "      \n",
              "  <style>\n",
              "    .colab-df-container {\n",
              "      display:flex;\n",
              "      flex-wrap:wrap;\n",
              "      gap: 12px;\n",
              "    }\n",
              "\n",
              "    .colab-df-convert {\n",
              "      background-color: #E8F0FE;\n",
              "      border: none;\n",
              "      border-radius: 50%;\n",
              "      cursor: pointer;\n",
              "      display: none;\n",
              "      fill: #1967D2;\n",
              "      height: 32px;\n",
              "      padding: 0 0 0 0;\n",
              "      width: 32px;\n",
              "    }\n",
              "\n",
              "    .colab-df-convert:hover {\n",
              "      background-color: #E2EBFA;\n",
              "      box-shadow: 0px 1px 2px rgba(60, 64, 67, 0.3), 0px 1px 3px 1px rgba(60, 64, 67, 0.15);\n",
              "      fill: #174EA6;\n",
              "    }\n",
              "\n",
              "    [theme=dark] .colab-df-convert {\n",
              "      background-color: #3B4455;\n",
              "      fill: #D2E3FC;\n",
              "    }\n",
              "\n",
              "    [theme=dark] .colab-df-convert:hover {\n",
              "      background-color: #434B5C;\n",
              "      box-shadow: 0px 1px 3px 1px rgba(0, 0, 0, 0.15);\n",
              "      filter: drop-shadow(0px 1px 2px rgba(0, 0, 0, 0.3));\n",
              "      fill: #FFFFFF;\n",
              "    }\n",
              "  </style>\n",
              "\n",
              "      <script>\n",
              "        const buttonEl =\n",
              "          document.querySelector('#df-3d63e887-7752-4c63-9ffe-f3aeda74a65d button.colab-df-convert');\n",
              "        buttonEl.style.display =\n",
              "          google.colab.kernel.accessAllowed ? 'block' : 'none';\n",
              "\n",
              "        async function convertToInteractive(key) {\n",
              "          const element = document.querySelector('#df-3d63e887-7752-4c63-9ffe-f3aeda74a65d');\n",
              "          const dataTable =\n",
              "            await google.colab.kernel.invokeFunction('convertToInteractive',\n",
              "                                                     [key], {});\n",
              "          if (!dataTable) return;\n",
              "\n",
              "          const docLinkHtml = 'Like what you see? Visit the ' +\n",
              "            '<a target=\"_blank\" href=https://colab.research.google.com/notebooks/data_table.ipynb>data table notebook</a>'\n",
              "            + ' to learn more about interactive tables.';\n",
              "          element.innerHTML = '';\n",
              "          dataTable['output_type'] = 'display_data';\n",
              "          await google.colab.output.renderOutput(dataTable, element);\n",
              "          const docLink = document.createElement('div');\n",
              "          docLink.innerHTML = docLinkHtml;\n",
              "          element.appendChild(docLink);\n",
              "        }\n",
              "      </script>\n",
              "    </div>\n",
              "  </div>\n",
              "  "
            ]
          },
          "metadata": {},
          "execution_count": 200
        }
      ]
    },
    {
      "cell_type": "code",
      "source": [
        "print(df.to_latex())"
      ],
      "metadata": {
        "colab": {
          "base_uri": "https://localhost:8080/"
        },
        "id": "-0i8_-VZSvhQ",
        "outputId": "a2466902-f12c-4f21-b5e7-721fd85ed625"
      },
      "execution_count": null,
      "outputs": [
        {
          "output_type": "stream",
          "name": "stdout",
          "text": [
            "\\begin{tabular}{llll}\n",
            "\\toprule\n",
            "{} &       OLID TEST &     OLID TRAIN &                       HASOC \\\\\n",
            "\\midrule\n",
            "0  &            like &            gun &                  \\#fucktrump \\\\\n",
            "1  &         control &       liberals &            \\#trumpisatraitor \\\\\n",
            "2  &             gun &        control &            @realdonaldtrump \\\\\n",
            "3  &           \\#maga &           like &           \\#doctorsfightback \\\\\n",
            "4  &             get &         antifa &                 \\#shameonicc \\\\\n",
            "5  &             one &         people &         \\#dhonikeepstheglove \\\\\n",
            "6  &              us &  conservatives &                        @icc \\\\\n",
            "7  &  \\#conservatives &          \\#maga &                       trump \\\\\n",
            "8  &          people &            get &                       \\&amp; \\\\\n",
            "9  &        liberals &           know &                     doctors \\\\\n",
            "10 &          antifa &            one &  \\#borisjohnsonshouldnotbepm \\\\\n",
            "11 &       \\#liberals &          \\&amp; &                   \\#murderer \\\\\n",
            "12 &            want &          would &                      people \\\\\n",
            "13 &            love &          think &                       world \\\\\n",
            "14 &   conservatives &          trump &                        like \\\\\n",
            "\\bottomrule\n",
            "\\end{tabular}\n",
            "\n"
          ]
        }
      ]
    },
    {
      "cell_type": "code",
      "source": [
        "most_common_olid_test\n"
      ],
      "metadata": {
        "colab": {
          "base_uri": "https://localhost:8080/"
        },
        "id": "GrBTI0PLSv0O",
        "outputId": "8c8a46eb-3871-450c-aab2-443b0f67c643"
      },
      "execution_count": null,
      "outputs": [
        {
          "output_type": "execute_result",
          "data": {
            "text/plain": [
              "[('like', 64),\n",
              " ('control', 62),\n",
              " ('gun', 61),\n",
              " ('#maga', 56),\n",
              " ('get', 50),\n",
              " ('one', 48),\n",
              " ('us', 47),\n",
              " ('#conservatives', 45),\n",
              " ('people', 44),\n",
              " ('liberals', 42),\n",
              " ('antifa', 39),\n",
              " ('#liberals', 39),\n",
              " ('want', 37),\n",
              " ('love', 35),\n",
              " ('conservatives', 34),\n",
              " ('#antifa', 34),\n",
              " ('via', 34),\n",
              " ('know', 31),\n",
              " ('good', 31),\n",
              " ('new', 30),\n",
              " ('going', 29),\n",
              " ('see', 29),\n",
              " ('need', 27),\n",
              " ('way', 25),\n",
              " ('never', 25),\n",
              " ('please', 25),\n",
              " ('im', 25),\n",
              " ('support', 24),\n",
              " ('#trump', 24),\n",
              " ('time', 24),\n",
              " ('shit', 24),\n",
              " ('always', 23),\n",
              " ('don’t', 23),\n",
              " ('still', 22),\n",
              " ('years', 21),\n",
              " ('really', 21),\n",
              " ('go', 21),\n",
              " ('think', 21),\n",
              " ('life', 20),\n",
              " ('even', 19)]"
            ]
          },
          "metadata": {},
          "execution_count": 128
        }
      ]
    },
    {
      "cell_type": "code",
      "source": [],
      "metadata": {
        "id": "bhFaFmBz9rpw"
      },
      "execution_count": null,
      "outputs": []
    },
    {
      "cell_type": "code",
      "source": [
        "a = {'like': [64, 508, 311],\n",
        " 'control': [62, 542, 0],\n",
        " 'gun': [61, 619, 0],\n",
        " '#maga': [56, 344, 0],\n",
        " 'get': [50, 284, 249],\n",
        " 'one': [48, 271, 240],\n",
        " 'us': [47, 206, 202],\n",
        " 'people': [44, 410, 331],\n",
        " 'liberals': [42, 588,0],\n",
        " 'antifa': [39, 434, 0],\n",
        " 'want': [37, 159, 0],\n",
        " 'love': [35, 145, 0],\n",
        " 'conservatives': [34, 377, 0],\n",
        " 'know': [31, 279, 189],\n",
        " 'good': [31, 210, 0],\n",
        " 'going': [29, 170, 0],\n",
        " 'see': [29, 161, 176],\n",
        " 'need': [27, 166, 0],\n",
        " 'way': [25, 138, 0],\n",
        " 'never': [25, 165, 0],\n",
        " 'im': [25, 137, 0],\n",
        " '#trump / trump': [24, 244, 181+450],\n",
        " 'time': [24, 168, 217],\n",
        " 'shit': [24, 175, 0],\n",
        " 'don’t': [23, 152, 0],\n",
        " 'still': [22, 135 , 0],\n",
        " 'even': [19, 158, 178],\n",
        " '&amp;': [0, 267, 407],\n",
        " 'would': [0, 256, 211],\n",
        " }\n",
        "\n",
        "\n",
        "df = pd.DataFrame.from_dict(a, orient='index')\n",
        "df.columns= ['OLID_TEST', 'OLID_TRAIN', \"HASOC\"]\n",
        "df"
      ],
      "metadata": {
        "colab": {
          "base_uri": "https://localhost:8080/",
          "height": 854
        },
        "id": "mBcUMcquxBMG",
        "outputId": "222e1a09-45cc-48b3-e540-001a4e4e1642"
      },
      "execution_count": null,
      "outputs": [
        {
          "output_type": "execute_result",
          "data": {
            "text/plain": [
              "                OLID_TEST  OLID_TRAIN  HASOC\n",
              "like                   64         508    311\n",
              "control                62         542      0\n",
              "gun                    61         619      0\n",
              "#maga                  56         344      0\n",
              "get                    50         284    249\n",
              "one                    48         271    240\n",
              "us                     47         206    202\n",
              "people                 44         410    331\n",
              "liberals               42         588      0\n",
              "antifa                 39         434      0\n",
              "want                   37         159      0\n",
              "love                   35         145      0\n",
              "conservatives          34         377      0\n",
              "know                   31         279    189\n",
              "good                   31         210      0\n",
              "going                  29         170      0\n",
              "see                    29         161    176\n",
              "need                   27         166      0\n",
              "way                    25         138      0\n",
              "never                  25         165      0\n",
              "im                     25         137      0\n",
              "#trump / trump         24         244    631\n",
              "time                   24         168    217\n",
              "shit                   24         175      0\n",
              "don’t                  23         152      0\n",
              "still                  22         135      0\n",
              "even                   19         158    178\n",
              "&amp;                   0         267    407\n",
              "would                   0         256    211"
            ],
            "text/html": [
              "\n",
              "  <div id=\"df-b5dd40e7-4234-4938-890f-6d071ad8f856\">\n",
              "    <div class=\"colab-df-container\">\n",
              "      <div>\n",
              "<style scoped>\n",
              "    .dataframe tbody tr th:only-of-type {\n",
              "        vertical-align: middle;\n",
              "    }\n",
              "\n",
              "    .dataframe tbody tr th {\n",
              "        vertical-align: top;\n",
              "    }\n",
              "\n",
              "    .dataframe thead th {\n",
              "        text-align: right;\n",
              "    }\n",
              "</style>\n",
              "<table border=\"1\" class=\"dataframe\">\n",
              "  <thead>\n",
              "    <tr style=\"text-align: right;\">\n",
              "      <th></th>\n",
              "      <th>OLID_TEST</th>\n",
              "      <th>OLID_TRAIN</th>\n",
              "      <th>HASOC</th>\n",
              "    </tr>\n",
              "  </thead>\n",
              "  <tbody>\n",
              "    <tr>\n",
              "      <th>like</th>\n",
              "      <td>64</td>\n",
              "      <td>508</td>\n",
              "      <td>311</td>\n",
              "    </tr>\n",
              "    <tr>\n",
              "      <th>control</th>\n",
              "      <td>62</td>\n",
              "      <td>542</td>\n",
              "      <td>0</td>\n",
              "    </tr>\n",
              "    <tr>\n",
              "      <th>gun</th>\n",
              "      <td>61</td>\n",
              "      <td>619</td>\n",
              "      <td>0</td>\n",
              "    </tr>\n",
              "    <tr>\n",
              "      <th>#maga</th>\n",
              "      <td>56</td>\n",
              "      <td>344</td>\n",
              "      <td>0</td>\n",
              "    </tr>\n",
              "    <tr>\n",
              "      <th>get</th>\n",
              "      <td>50</td>\n",
              "      <td>284</td>\n",
              "      <td>249</td>\n",
              "    </tr>\n",
              "    <tr>\n",
              "      <th>one</th>\n",
              "      <td>48</td>\n",
              "      <td>271</td>\n",
              "      <td>240</td>\n",
              "    </tr>\n",
              "    <tr>\n",
              "      <th>us</th>\n",
              "      <td>47</td>\n",
              "      <td>206</td>\n",
              "      <td>202</td>\n",
              "    </tr>\n",
              "    <tr>\n",
              "      <th>people</th>\n",
              "      <td>44</td>\n",
              "      <td>410</td>\n",
              "      <td>331</td>\n",
              "    </tr>\n",
              "    <tr>\n",
              "      <th>liberals</th>\n",
              "      <td>42</td>\n",
              "      <td>588</td>\n",
              "      <td>0</td>\n",
              "    </tr>\n",
              "    <tr>\n",
              "      <th>antifa</th>\n",
              "      <td>39</td>\n",
              "      <td>434</td>\n",
              "      <td>0</td>\n",
              "    </tr>\n",
              "    <tr>\n",
              "      <th>want</th>\n",
              "      <td>37</td>\n",
              "      <td>159</td>\n",
              "      <td>0</td>\n",
              "    </tr>\n",
              "    <tr>\n",
              "      <th>love</th>\n",
              "      <td>35</td>\n",
              "      <td>145</td>\n",
              "      <td>0</td>\n",
              "    </tr>\n",
              "    <tr>\n",
              "      <th>conservatives</th>\n",
              "      <td>34</td>\n",
              "      <td>377</td>\n",
              "      <td>0</td>\n",
              "    </tr>\n",
              "    <tr>\n",
              "      <th>know</th>\n",
              "      <td>31</td>\n",
              "      <td>279</td>\n",
              "      <td>189</td>\n",
              "    </tr>\n",
              "    <tr>\n",
              "      <th>good</th>\n",
              "      <td>31</td>\n",
              "      <td>210</td>\n",
              "      <td>0</td>\n",
              "    </tr>\n",
              "    <tr>\n",
              "      <th>going</th>\n",
              "      <td>29</td>\n",
              "      <td>170</td>\n",
              "      <td>0</td>\n",
              "    </tr>\n",
              "    <tr>\n",
              "      <th>see</th>\n",
              "      <td>29</td>\n",
              "      <td>161</td>\n",
              "      <td>176</td>\n",
              "    </tr>\n",
              "    <tr>\n",
              "      <th>need</th>\n",
              "      <td>27</td>\n",
              "      <td>166</td>\n",
              "      <td>0</td>\n",
              "    </tr>\n",
              "    <tr>\n",
              "      <th>way</th>\n",
              "      <td>25</td>\n",
              "      <td>138</td>\n",
              "      <td>0</td>\n",
              "    </tr>\n",
              "    <tr>\n",
              "      <th>never</th>\n",
              "      <td>25</td>\n",
              "      <td>165</td>\n",
              "      <td>0</td>\n",
              "    </tr>\n",
              "    <tr>\n",
              "      <th>im</th>\n",
              "      <td>25</td>\n",
              "      <td>137</td>\n",
              "      <td>0</td>\n",
              "    </tr>\n",
              "    <tr>\n",
              "      <th>#trump / trump</th>\n",
              "      <td>24</td>\n",
              "      <td>244</td>\n",
              "      <td>631</td>\n",
              "    </tr>\n",
              "    <tr>\n",
              "      <th>time</th>\n",
              "      <td>24</td>\n",
              "      <td>168</td>\n",
              "      <td>217</td>\n",
              "    </tr>\n",
              "    <tr>\n",
              "      <th>shit</th>\n",
              "      <td>24</td>\n",
              "      <td>175</td>\n",
              "      <td>0</td>\n",
              "    </tr>\n",
              "    <tr>\n",
              "      <th>don’t</th>\n",
              "      <td>23</td>\n",
              "      <td>152</td>\n",
              "      <td>0</td>\n",
              "    </tr>\n",
              "    <tr>\n",
              "      <th>still</th>\n",
              "      <td>22</td>\n",
              "      <td>135</td>\n",
              "      <td>0</td>\n",
              "    </tr>\n",
              "    <tr>\n",
              "      <th>even</th>\n",
              "      <td>19</td>\n",
              "      <td>158</td>\n",
              "      <td>178</td>\n",
              "    </tr>\n",
              "    <tr>\n",
              "      <th>&amp;amp;</th>\n",
              "      <td>0</td>\n",
              "      <td>267</td>\n",
              "      <td>407</td>\n",
              "    </tr>\n",
              "    <tr>\n",
              "      <th>would</th>\n",
              "      <td>0</td>\n",
              "      <td>256</td>\n",
              "      <td>211</td>\n",
              "    </tr>\n",
              "  </tbody>\n",
              "</table>\n",
              "</div>\n",
              "      <button class=\"colab-df-convert\" onclick=\"convertToInteractive('df-b5dd40e7-4234-4938-890f-6d071ad8f856')\"\n",
              "              title=\"Convert this dataframe to an interactive table.\"\n",
              "              style=\"display:none;\">\n",
              "        \n",
              "  <svg xmlns=\"http://www.w3.org/2000/svg\" height=\"24px\"viewBox=\"0 0 24 24\"\n",
              "       width=\"24px\">\n",
              "    <path d=\"M0 0h24v24H0V0z\" fill=\"none\"/>\n",
              "    <path d=\"M18.56 5.44l.94 2.06.94-2.06 2.06-.94-2.06-.94-.94-2.06-.94 2.06-2.06.94zm-11 1L8.5 8.5l.94-2.06 2.06-.94-2.06-.94L8.5 2.5l-.94 2.06-2.06.94zm10 10l.94 2.06.94-2.06 2.06-.94-2.06-.94-.94-2.06-.94 2.06-2.06.94z\"/><path d=\"M17.41 7.96l-1.37-1.37c-.4-.4-.92-.59-1.43-.59-.52 0-1.04.2-1.43.59L10.3 9.45l-7.72 7.72c-.78.78-.78 2.05 0 2.83L4 21.41c.39.39.9.59 1.41.59.51 0 1.02-.2 1.41-.59l7.78-7.78 2.81-2.81c.8-.78.8-2.07 0-2.86zM5.41 20L4 18.59l7.72-7.72 1.47 1.35L5.41 20z\"/>\n",
              "  </svg>\n",
              "      </button>\n",
              "      \n",
              "  <style>\n",
              "    .colab-df-container {\n",
              "      display:flex;\n",
              "      flex-wrap:wrap;\n",
              "      gap: 12px;\n",
              "    }\n",
              "\n",
              "    .colab-df-convert {\n",
              "      background-color: #E8F0FE;\n",
              "      border: none;\n",
              "      border-radius: 50%;\n",
              "      cursor: pointer;\n",
              "      display: none;\n",
              "      fill: #1967D2;\n",
              "      height: 32px;\n",
              "      padding: 0 0 0 0;\n",
              "      width: 32px;\n",
              "    }\n",
              "\n",
              "    .colab-df-convert:hover {\n",
              "      background-color: #E2EBFA;\n",
              "      box-shadow: 0px 1px 2px rgba(60, 64, 67, 0.3), 0px 1px 3px 1px rgba(60, 64, 67, 0.15);\n",
              "      fill: #174EA6;\n",
              "    }\n",
              "\n",
              "    [theme=dark] .colab-df-convert {\n",
              "      background-color: #3B4455;\n",
              "      fill: #D2E3FC;\n",
              "    }\n",
              "\n",
              "    [theme=dark] .colab-df-convert:hover {\n",
              "      background-color: #434B5C;\n",
              "      box-shadow: 0px 1px 3px 1px rgba(0, 0, 0, 0.15);\n",
              "      filter: drop-shadow(0px 1px 2px rgba(0, 0, 0, 0.3));\n",
              "      fill: #FFFFFF;\n",
              "    }\n",
              "  </style>\n",
              "\n",
              "      <script>\n",
              "        const buttonEl =\n",
              "          document.querySelector('#df-b5dd40e7-4234-4938-890f-6d071ad8f856 button.colab-df-convert');\n",
              "        buttonEl.style.display =\n",
              "          google.colab.kernel.accessAllowed ? 'block' : 'none';\n",
              "\n",
              "        async function convertToInteractive(key) {\n",
              "          const element = document.querySelector('#df-b5dd40e7-4234-4938-890f-6d071ad8f856');\n",
              "          const dataTable =\n",
              "            await google.colab.kernel.invokeFunction('convertToInteractive',\n",
              "                                                     [key], {});\n",
              "          if (!dataTable) return;\n",
              "\n",
              "          const docLinkHtml = 'Like what you see? Visit the ' +\n",
              "            '<a target=\"_blank\" href=https://colab.research.google.com/notebooks/data_table.ipynb>data table notebook</a>'\n",
              "            + ' to learn more about interactive tables.';\n",
              "          element.innerHTML = '';\n",
              "          dataTable['output_type'] = 'display_data';\n",
              "          await google.colab.output.renderOutput(dataTable, element);\n",
              "          const docLink = document.createElement('div');\n",
              "          docLink.innerHTML = docLinkHtml;\n",
              "          element.appendChild(docLink);\n",
              "        }\n",
              "      </script>\n",
              "    </div>\n",
              "  </div>\n",
              "  "
            ]
          },
          "metadata": {},
          "execution_count": 167
        }
      ]
    },
    {
      "cell_type": "code",
      "source": [
        "from sklearn.feature_extraction.text import CountVectorizer\n",
        "# Initialize CountVectorizer\n",
        "stop = set(stopwords.words(\"english\"))\n",
        "stop.add('@user')\n",
        "stop.add('url')\n",
        "stop.add('-')\n",
        "stop.add('user user')\n",
        "vec = CountVectorizer(stop_words = stop, ngram_range = (2, 2))\n",
        "# Matrix of ngrams\n",
        "bow = vec.fit_transform(filtered_olid_train)\n",
        "# Count frequency of ngrams\n",
        "count_values = bow.toarray().sum(axis=0)\n",
        "# Create DataFrame from ngram frequencies\n",
        "ngram_freq = pd.DataFrame(sorted([(count_values[i], k) for k, i in vec.vocabulary_.items()], reverse = True))\n",
        "ngram_freq.columns = [\"frequency\", \"ngram\"]\n",
        "ngram_freq.head(20)\n"
      ],
      "metadata": {
        "colab": {
          "base_uri": "https://localhost:8080/",
          "height": 711
        },
        "id": "toWNjbC-z8Mz",
        "outputId": "d6eb6fac-384e-40ab-b196-4e3a44efd884"
      },
      "execution_count": null,
      "outputs": [
        {
          "output_type": "stream",
          "name": "stderr",
          "text": [
            "/usr/local/lib/python3.7/dist-packages/sklearn/feature_extraction/text.py:401: UserWarning: Your stop_words may be inconsistent with your preprocessing. Tokenizing the stop words generated tokens ['user'] not in stop_words.\n",
            "  % sorted(inconsistent)\n"
          ]
        },
        {
          "output_type": "execute_result",
          "data": {
            "text/plain": [
              "    frequency               ngram\n",
              "0        8458           user user\n",
              "1         513         gun control\n",
              "2          93       user liberals\n",
              "3          60          user think\n",
              "4          54            user yes\n",
              "5          52         user antifa\n",
              "6          51           user know\n",
              "7          51        control laws\n",
              "8          48             user oh\n",
              "9          48  user conservatives\n",
              "10         47           user good\n",
              "11         46             user im\n",
              "12         43            user gun\n",
              "13         41           user love\n",
              "14         41           user fuck\n",
              "15         39          user thats\n",
              "16         39            user one\n",
              "17         36           user well\n",
              "18         35          looks like\n",
              "19         34          user would"
            ],
            "text/html": [
              "\n",
              "  <div id=\"df-cbe3161e-df6b-4970-8fc5-892d536024fc\">\n",
              "    <div class=\"colab-df-container\">\n",
              "      <div>\n",
              "<style scoped>\n",
              "    .dataframe tbody tr th:only-of-type {\n",
              "        vertical-align: middle;\n",
              "    }\n",
              "\n",
              "    .dataframe tbody tr th {\n",
              "        vertical-align: top;\n",
              "    }\n",
              "\n",
              "    .dataframe thead th {\n",
              "        text-align: right;\n",
              "    }\n",
              "</style>\n",
              "<table border=\"1\" class=\"dataframe\">\n",
              "  <thead>\n",
              "    <tr style=\"text-align: right;\">\n",
              "      <th></th>\n",
              "      <th>frequency</th>\n",
              "      <th>ngram</th>\n",
              "    </tr>\n",
              "  </thead>\n",
              "  <tbody>\n",
              "    <tr>\n",
              "      <th>0</th>\n",
              "      <td>8458</td>\n",
              "      <td>user user</td>\n",
              "    </tr>\n",
              "    <tr>\n",
              "      <th>1</th>\n",
              "      <td>513</td>\n",
              "      <td>gun control</td>\n",
              "    </tr>\n",
              "    <tr>\n",
              "      <th>2</th>\n",
              "      <td>93</td>\n",
              "      <td>user liberals</td>\n",
              "    </tr>\n",
              "    <tr>\n",
              "      <th>3</th>\n",
              "      <td>60</td>\n",
              "      <td>user think</td>\n",
              "    </tr>\n",
              "    <tr>\n",
              "      <th>4</th>\n",
              "      <td>54</td>\n",
              "      <td>user yes</td>\n",
              "    </tr>\n",
              "    <tr>\n",
              "      <th>5</th>\n",
              "      <td>52</td>\n",
              "      <td>user antifa</td>\n",
              "    </tr>\n",
              "    <tr>\n",
              "      <th>6</th>\n",
              "      <td>51</td>\n",
              "      <td>user know</td>\n",
              "    </tr>\n",
              "    <tr>\n",
              "      <th>7</th>\n",
              "      <td>51</td>\n",
              "      <td>control laws</td>\n",
              "    </tr>\n",
              "    <tr>\n",
              "      <th>8</th>\n",
              "      <td>48</td>\n",
              "      <td>user oh</td>\n",
              "    </tr>\n",
              "    <tr>\n",
              "      <th>9</th>\n",
              "      <td>48</td>\n",
              "      <td>user conservatives</td>\n",
              "    </tr>\n",
              "    <tr>\n",
              "      <th>10</th>\n",
              "      <td>47</td>\n",
              "      <td>user good</td>\n",
              "    </tr>\n",
              "    <tr>\n",
              "      <th>11</th>\n",
              "      <td>46</td>\n",
              "      <td>user im</td>\n",
              "    </tr>\n",
              "    <tr>\n",
              "      <th>12</th>\n",
              "      <td>43</td>\n",
              "      <td>user gun</td>\n",
              "    </tr>\n",
              "    <tr>\n",
              "      <th>13</th>\n",
              "      <td>41</td>\n",
              "      <td>user love</td>\n",
              "    </tr>\n",
              "    <tr>\n",
              "      <th>14</th>\n",
              "      <td>41</td>\n",
              "      <td>user fuck</td>\n",
              "    </tr>\n",
              "    <tr>\n",
              "      <th>15</th>\n",
              "      <td>39</td>\n",
              "      <td>user thats</td>\n",
              "    </tr>\n",
              "    <tr>\n",
              "      <th>16</th>\n",
              "      <td>39</td>\n",
              "      <td>user one</td>\n",
              "    </tr>\n",
              "    <tr>\n",
              "      <th>17</th>\n",
              "      <td>36</td>\n",
              "      <td>user well</td>\n",
              "    </tr>\n",
              "    <tr>\n",
              "      <th>18</th>\n",
              "      <td>35</td>\n",
              "      <td>looks like</td>\n",
              "    </tr>\n",
              "    <tr>\n",
              "      <th>19</th>\n",
              "      <td>34</td>\n",
              "      <td>user would</td>\n",
              "    </tr>\n",
              "  </tbody>\n",
              "</table>\n",
              "</div>\n",
              "      <button class=\"colab-df-convert\" onclick=\"convertToInteractive('df-cbe3161e-df6b-4970-8fc5-892d536024fc')\"\n",
              "              title=\"Convert this dataframe to an interactive table.\"\n",
              "              style=\"display:none;\">\n",
              "        \n",
              "  <svg xmlns=\"http://www.w3.org/2000/svg\" height=\"24px\"viewBox=\"0 0 24 24\"\n",
              "       width=\"24px\">\n",
              "    <path d=\"M0 0h24v24H0V0z\" fill=\"none\"/>\n",
              "    <path d=\"M18.56 5.44l.94 2.06.94-2.06 2.06-.94-2.06-.94-.94-2.06-.94 2.06-2.06.94zm-11 1L8.5 8.5l.94-2.06 2.06-.94-2.06-.94L8.5 2.5l-.94 2.06-2.06.94zm10 10l.94 2.06.94-2.06 2.06-.94-2.06-.94-.94-2.06-.94 2.06-2.06.94z\"/><path d=\"M17.41 7.96l-1.37-1.37c-.4-.4-.92-.59-1.43-.59-.52 0-1.04.2-1.43.59L10.3 9.45l-7.72 7.72c-.78.78-.78 2.05 0 2.83L4 21.41c.39.39.9.59 1.41.59.51 0 1.02-.2 1.41-.59l7.78-7.78 2.81-2.81c.8-.78.8-2.07 0-2.86zM5.41 20L4 18.59l7.72-7.72 1.47 1.35L5.41 20z\"/>\n",
              "  </svg>\n",
              "      </button>\n",
              "      \n",
              "  <style>\n",
              "    .colab-df-container {\n",
              "      display:flex;\n",
              "      flex-wrap:wrap;\n",
              "      gap: 12px;\n",
              "    }\n",
              "\n",
              "    .colab-df-convert {\n",
              "      background-color: #E8F0FE;\n",
              "      border: none;\n",
              "      border-radius: 50%;\n",
              "      cursor: pointer;\n",
              "      display: none;\n",
              "      fill: #1967D2;\n",
              "      height: 32px;\n",
              "      padding: 0 0 0 0;\n",
              "      width: 32px;\n",
              "    }\n",
              "\n",
              "    .colab-df-convert:hover {\n",
              "      background-color: #E2EBFA;\n",
              "      box-shadow: 0px 1px 2px rgba(60, 64, 67, 0.3), 0px 1px 3px 1px rgba(60, 64, 67, 0.15);\n",
              "      fill: #174EA6;\n",
              "    }\n",
              "\n",
              "    [theme=dark] .colab-df-convert {\n",
              "      background-color: #3B4455;\n",
              "      fill: #D2E3FC;\n",
              "    }\n",
              "\n",
              "    [theme=dark] .colab-df-convert:hover {\n",
              "      background-color: #434B5C;\n",
              "      box-shadow: 0px 1px 3px 1px rgba(0, 0, 0, 0.15);\n",
              "      filter: drop-shadow(0px 1px 2px rgba(0, 0, 0, 0.3));\n",
              "      fill: #FFFFFF;\n",
              "    }\n",
              "  </style>\n",
              "\n",
              "      <script>\n",
              "        const buttonEl =\n",
              "          document.querySelector('#df-cbe3161e-df6b-4970-8fc5-892d536024fc button.colab-df-convert');\n",
              "        buttonEl.style.display =\n",
              "          google.colab.kernel.accessAllowed ? 'block' : 'none';\n",
              "\n",
              "        async function convertToInteractive(key) {\n",
              "          const element = document.querySelector('#df-cbe3161e-df6b-4970-8fc5-892d536024fc');\n",
              "          const dataTable =\n",
              "            await google.colab.kernel.invokeFunction('convertToInteractive',\n",
              "                                                     [key], {});\n",
              "          if (!dataTable) return;\n",
              "\n",
              "          const docLinkHtml = 'Like what you see? Visit the ' +\n",
              "            '<a target=\"_blank\" href=https://colab.research.google.com/notebooks/data_table.ipynb>data table notebook</a>'\n",
              "            + ' to learn more about interactive tables.';\n",
              "          element.innerHTML = '';\n",
              "          dataTable['output_type'] = 'display_data';\n",
              "          await google.colab.output.renderOutput(dataTable, element);\n",
              "          const docLink = document.createElement('div');\n",
              "          docLink.innerHTML = docLinkHtml;\n",
              "          element.appendChild(docLink);\n",
              "        }\n",
              "      </script>\n",
              "    </div>\n",
              "  </div>\n",
              "  "
            ]
          },
          "metadata": {},
          "execution_count": 35
        }
      ]
    },
    {
      "cell_type": "code",
      "source": [
        "sns.barplot(x = frequency, y = words).set(title='Frequency of words in HASOC')"
      ],
      "metadata": {
        "id": "FRUzbi946VJz"
      },
      "execution_count": null,
      "outputs": []
    },
    {
      "cell_type": "code",
      "source": [
        "olid_train"
      ],
      "metadata": {
        "id": "yIlb78Vu6rCr"
      },
      "execution_count": null,
      "outputs": []
    },
    {
      "cell_type": "code",
      "source": [
        "olid_test"
      ],
      "metadata": {
        "id": "sEvkf4_mFPWQ"
      },
      "execution_count": null,
      "outputs": []
    },
    {
      "cell_type": "code",
      "source": [
        "\n",
        "nh = 0\n",
        "for ele in hasoc['labels']:\n",
        "  if ele == 0:\n",
        "    nh+=1\n",
        "print(nh)\n",
        "\n",
        "h = 0\n",
        "for ele in hasoc['labels']:\n",
        "  if ele == 1:\n",
        "    h+=1\n",
        "print(h)\n"
      ],
      "metadata": {
        "id": "nKM48pykFcmE"
      },
      "execution_count": null,
      "outputs": []
    },
    {
      "cell_type": "code",
      "source": [
        " 2261/5852 *100"
      ],
      "metadata": {
        "id": "lao-Y8RCFieP"
      },
      "execution_count": null,
      "outputs": []
    },
    {
      "cell_type": "code",
      "source": [
        "\n",
        "nh = 0\n",
        "for ele in olid_test['labels']:\n",
        "  if ele == 0:\n",
        "    nh+=1\n",
        "print(nh)\n",
        "\n",
        "h = 0\n",
        "for ele in olid_test['labels']:\n",
        "  if ele == 1:\n",
        "    h+=1\n",
        "print(h)\n",
        "\n",
        "240/860 *100\n",
        "\n"
      ],
      "metadata": {
        "id": "N7A_NNBBFrIB"
      },
      "execution_count": null,
      "outputs": []
    },
    {
      "cell_type": "code",
      "source": [
        "\n",
        "nh = 0\n",
        "for ele in olid_train['labels']:\n",
        "  if ele == 0:\n",
        "    nh+=1\n",
        "print(nh)\n",
        "\n",
        "h = 0\n",
        "for ele in olid_train['labels']:\n",
        "  if ele == 1:\n",
        "    h+=1\n",
        "print(h)\n"
      ],
      "metadata": {
        "id": "sjqasWrUHzFP"
      },
      "execution_count": null,
      "outputs": []
    },
    {
      "cell_type": "code",
      "source": [],
      "metadata": {
        "id": "yX8Q8TMYH3wX"
      },
      "execution_count": null,
      "outputs": []
    }
  ]
}
{
 "cells": [
  {
   "cell_type": "code",
   "execution_count": 16,
   "metadata": {
    "_uuid": "452ccaa5f89f25121f86f54a6a6eb07c9134a567",
    "execution": {
     "iopub.execute_input": "2022-10-13T08:28:28.481460Z",
     "iopub.status.busy": "2022-10-13T08:28:28.481118Z",
     "iopub.status.idle": "2022-10-13T08:28:28.489282Z",
     "shell.execute_reply": "2022-10-13T08:28:28.488081Z",
     "shell.execute_reply.started": "2022-10-13T08:28:28.481371Z"
    }
   },
   "outputs": [],
   "source": [
    "# Some imports, we are not gong to use all the imports in this workbook but in subsequent workbooks we surely will.\n",
    "import os\n",
    "import time\n",
    "import numpy as np # linear algebra\n",
    "import pandas as pd # data processing, CSV file I/O (e.g. pd.read_csv)\n",
    "from tqdm import tqdm\n",
    "import math\n",
    "from sklearn.model_selection import train_test_split\n",
    "from sklearn import metrics\n",
    "\n",
    "from keras.preprocessing.text import Tokenizer\n",
    "from keras.preprocessing.sequence import pad_sequences\n",
    "from keras.layers import Dense, Input, CuDNNLSTM, Embedding, Dropout, Activation, CuDNNGRU, Conv1D\n",
    "from keras.layers import Bidirectional, GlobalMaxPool1D, GlobalMaxPooling1D, GlobalAveragePooling1D\n",
    "from keras.layers import Input, Embedding, Dense, Conv2D, MaxPool2D, concatenate\n",
    "from keras.layers import Reshape, Flatten, Concatenate, Dropout, SpatialDropout1D\n",
    "from keras.optimizers import Adam\n",
    "from keras.models import Model\n",
    "from keras import backend as K\n",
    "from keras.engine.topology import Layer\n",
    "from keras import initializers, regularizers, constraints, optimizers, layers\n",
    "from keras.callbacks import ModelCheckpoint, ReduceLROnPlateau, EarlyStopping\n",
    "\n",
    "\n",
    "# from keras.layers import *\n",
    "# from keras.models import *\n",
    "# from keras import initializers, regularizers, constraints, optimizers, layers\n",
    "# from keras.initializers import *\n",
    "# from keras.optimizers import *\n",
    "# import keras.backend as K\n",
    "# from keras.callbacks import *\n",
    "# import tensorflow as tf\n",
    "# import os\n",
    "# import time\n",
    "# import gc\n",
    "# import re\n",
    "# import glob"
   ]
  },
  {
   "cell_type": "code",
   "execution_count": 2,
   "metadata": {
    "execution": {
     "iopub.execute_input": "2022-10-13T08:26:16.830660Z",
     "iopub.status.busy": "2022-10-13T08:26:16.830066Z",
     "iopub.status.idle": "2022-10-13T08:26:16.980215Z",
     "shell.execute_reply": "2022-10-13T08:26:16.979431Z",
     "shell.execute_reply.started": "2022-10-13T08:26:16.830595Z"
    }
   },
   "outputs": [],
   "source": [
    "hasoc_train = pd.read_csv('../input/subjectivity-mining/hasoc-train.csv', index_col=0)\n",
    "olid_test = pd.read_csv('../input/subjectivity-mining/olid-test.csv', index_col=0)\n",
    "olid_train_small = pd.read_csv('../input/subjectivity-mining/olid-train-small.csv', index_col=0)"
   ]
  },
  {
   "cell_type": "markdown",
   "metadata": {
    "_uuid": "620eae354ed80c3af5559314ab8d1ccc768dbbe9"
   },
   "source": [
    "### Data Preprocessing"
   ]
  },
  {
   "cell_type": "code",
   "execution_count": 3,
   "metadata": {
    "_uuid": "1694357ed892df24447d2045570582142b7616f4",
    "execution": {
     "iopub.execute_input": "2022-10-13T08:26:16.982228Z",
     "iopub.status.busy": "2022-10-13T08:26:16.981643Z",
     "iopub.status.idle": "2022-10-13T08:26:16.987503Z",
     "shell.execute_reply": "2022-10-13T08:26:16.986564Z",
     "shell.execute_reply.started": "2022-10-13T08:26:16.982157Z"
    }
   },
   "outputs": [],
   "source": [
    "# Define some Global Variables\n",
    "max_features = 10000 # Maximum Number of words we want to include in our dictionary\n",
    "maxlen = 60 # No of words in question we want to create a sequence with\n",
    "embed_size = 300# Size of word to vec embedding we are using"
   ]
  },
  {
   "cell_type": "code",
   "execution_count": 4,
   "metadata": {
    "_uuid": "ded9ec27c9625c9fd159f25dfd21ba3ba9a3643a",
    "execution": {
     "iopub.execute_input": "2022-10-13T08:26:16.990082Z",
     "iopub.status.busy": "2022-10-13T08:26:16.989427Z",
     "iopub.status.idle": "2022-10-13T08:26:17.100335Z",
     "shell.execute_reply": "2022-10-13T08:26:17.099259Z",
     "shell.execute_reply.started": "2022-10-13T08:26:16.990019Z"
    }
   },
   "outputs": [],
   "source": [
    "# Some preprocesssing that will be common to all the text classification methods you will see. \n",
    "puncts = [',', '.', '\"', ':', ')', '(', '-', '!', '?', '|', ';', \"'\", '$', '&', '/', '[', ']', '>', '%', '=', '#', '*', '+', '\\\\', '•',  '~', '@', '£', \n",
    " '·', '_', '{', '}', '©', '^', '®', '`',  '<', '→', '°', '€', '™', '›',  '♥', '←', '×', '§', '″', '′', 'Â', '█', '½', 'à', '…', \n",
    " '“', '★', '”', '–', '●', 'â', '►', '−', '¢', '²', '¬', '░', '¶', '↑', '±', '¿', '▾', '═', '¦', '║', '―', '¥', '▓', '—', '‹', '─', \n",
    " '▒', '：', '¼', '⊕', '▼', '▪', '†', '■', '’', '▀', '¨', '▄', '♫', '☆', 'é', '¯', '♦', '¤', '▲', 'è', '¸', '¾', 'Ã', '⋅', '‘', '∞', \n",
    " '∙', '）', '↓', '、', '│', '（', '»', '，', '♪', '╩', '╚', '³', '・', '╦', '╣', '╔', '╗', '▬', '❤', 'ï', 'Ø', '¹', '≤', '‡', '√', ]\n",
    "def clean_text(x):\n",
    "    x = str(x)\n",
    "    for punct in puncts:\n",
    "        x = x.replace(punct, f' {punct} ')\n",
    "    return x\n",
    "\n",
    "# Loading the data\n",
    "def preproc(train_df, test_df):\n",
    "    \n",
    "    print(\"Train shape : \",train_df.shape)\n",
    "    print(\"Test shape : \",test_df.shape)\n",
    "    \n",
    "    train_df[\"text\"] = train_df[\"text\"].apply(lambda x: clean_text(x))\n",
    "    test_df[\"text\"] = test_df[\"text\"].apply(lambda x: clean_text(x))\n",
    "    \n",
    "    ## split to train and val\n",
    "    train_df, val_df = train_test_split(train_df, test_size=0.1)\n",
    "\n",
    "    ## fill up the missing values\n",
    "    train_X = train_df[\"text\"].fillna(\"_##_\").values\n",
    "    val_X = val_df[\"text\"].fillna(\"_##_\").values\n",
    "    test_X = test_df[\"text\"].fillna(\"_##_\").values\n",
    "\n",
    "    ## Tokenize the sentences\n",
    "    tokenizer = Tokenizer(num_words=max_features)\n",
    "    tokenizer.fit_on_texts(list(train_X))\n",
    "    train_X = tokenizer.texts_to_sequences(train_X)\n",
    "    val_X = tokenizer.texts_to_sequences(val_X)\n",
    "    test_X = tokenizer.texts_to_sequences(test_X)\n",
    "\n",
    "    ## Pad the sentences. We need to pad the sequence with 0's to achieve consistent length across examples.\n",
    "    '''\n",
    "    We had train_X = [[1,2,4,3],[1,2,5,6,3]]\n",
    "    lets say maxlen=6\n",
    "        We will then get \n",
    "        train_X = [[1,2,4,3,0,0],[1,2,5,6,3,0]]\n",
    "    '''\n",
    "    train_X = pad_sequences(train_X, maxlen=maxlen)\n",
    "    val_X = pad_sequences(val_X, maxlen=maxlen)\n",
    "    test_X = pad_sequences(test_X, maxlen=maxlen)\n",
    "\n",
    "    ## Get the target values\n",
    "    train_y = train_df['labels'].values\n",
    "    val_y = val_df['labels'].values  \n",
    "    \n",
    "    #shuffling the data\n",
    "    trn_idx = np.random.permutation(len(train_X))\n",
    "    val_idx = np.random.permutation(len(val_X))\n",
    "\n",
    "    train_X = train_X[trn_idx]\n",
    "    val_X = val_X[val_idx]\n",
    "    train_y = train_y[trn_idx]\n",
    "    val_y = val_y[val_idx]    \n",
    "    \n",
    "    return train_X, val_X, test_X, train_y, val_y, tokenizer.word_index"
   ]
  },
  {
   "cell_type": "code",
   "execution_count": 5,
   "metadata": {
    "_uuid": "def8373452faff54d665749e62bdad81166ceec0",
    "execution": {
     "iopub.execute_input": "2022-10-13T08:26:17.104205Z",
     "iopub.status.busy": "2022-10-13T08:26:17.103758Z",
     "iopub.status.idle": "2022-10-13T08:26:17.117217Z",
     "shell.execute_reply": "2022-10-13T08:26:17.116164Z",
     "shell.execute_reply.started": "2022-10-13T08:26:17.104137Z"
    }
   },
   "outputs": [],
   "source": [
    "# Word 2 vec Embedding\n",
    "\n",
    "def create_embeddings(word_index):\n",
    "    '''We want to create an embedding matrix in which we keep only the word2vec for words which are in our word_index\n",
    "    '''\n",
    "    EMBEDDING_FILE = '../input/glove6b/glove.6B.300d.txt'\n",
    "\n",
    "    def get_coefs(word,*arr): return word, np.asarray(arr, dtype='float32')\n",
    "    embeddings_index = dict(get_coefs(*o.split(\" \")) for o in open(EMBEDDING_FILE))\n",
    "\n",
    "    all_embs = np.stack(embeddings_index.values())\n",
    "    emb_mean,emb_std = -0.005838499,0.48782197\n",
    "    embed_size = all_embs.shape[1]\n",
    "\n",
    "    # word_index = tokenizer.word_index\n",
    "    nb_words = min(max_features, len(word_index)+1)\n",
    "    embedding_matrix = np.random.normal(emb_mean, emb_std, (nb_words, embed_size))\n",
    "    for word, i in word_index.items():\n",
    "        if i >= max_features: continue\n",
    "        embedding_vector = embeddings_index.get(word)\n",
    "        if embedding_vector is not None: embedding_matrix[i] = embedding_vector\n",
    "            \n",
    "    return embedding_matrix[:max_features]"
   ]
  },
  {
   "cell_type": "code",
   "execution_count": 6,
   "metadata": {
    "_uuid": "25b62fa53df10749b2b114886a24ef859cd9754c",
    "execution": {
     "iopub.execute_input": "2022-10-13T08:26:17.119790Z",
     "iopub.status.busy": "2022-10-13T08:26:17.119143Z",
     "iopub.status.idle": "2022-10-13T08:26:17.130623Z",
     "shell.execute_reply": "2022-10-13T08:26:17.129881Z",
     "shell.execute_reply.started": "2022-10-13T08:26:17.119451Z"
    }
   },
   "outputs": [],
   "source": [
    "# https://www.kaggle.com/yekenot/2dcnn-textclassifier\n",
    "def model_cnn(embedding_matrix):\n",
    "    filter_sizes = [1,2,3,5,8,12]\n",
    "    num_filters = 36\n",
    "\n",
    "    inp = Input(shape=(maxlen,))\n",
    "    x = Embedding(max_features, embed_size, weights=[embedding_matrix])(inp)\n",
    "    x = Reshape((maxlen, embed_size, 1))(x)\n",
    "\n",
    "    maxpool_pool = []\n",
    "    for i in range(len(filter_sizes)):\n",
    "        conv = Conv2D(num_filters, kernel_size=(filter_sizes[i], embed_size),\n",
    "                                     kernel_initializer='he_normal', activation='elu')(x)\n",
    "        maxpool_pool.append(MaxPool2D(pool_size=(maxlen - filter_sizes[i] + 1, 1))(conv))\n",
    "\n",
    "    z = Concatenate(axis=1)(maxpool_pool)   \n",
    "    z = Flatten()(z)\n",
    "    z = Dropout(0.2)(z)\n",
    "\n",
    "    outp = Dense(1, activation=\"sigmoid\")(z)\n",
    "\n",
    "    model = Model(inputs=inp, outputs=outp)\n",
    "    model.compile(loss='binary_crossentropy', optimizer='adam', metrics=['accuracy'])\n",
    "    \n",
    "    return model"
   ]
  },
  {
   "cell_type": "code",
   "execution_count": 7,
   "metadata": {
    "execution": {
     "iopub.execute_input": "2022-10-13T08:26:17.132009Z",
     "iopub.status.busy": "2022-10-13T08:26:17.131628Z",
     "iopub.status.idle": "2022-10-13T08:26:17.153807Z",
     "shell.execute_reply": "2022-10-13T08:26:17.152843Z",
     "shell.execute_reply.started": "2022-10-13T08:26:17.131966Z"
    }
   },
   "outputs": [],
   "source": [
    "# BiDirectional LSTM\n",
    "\n",
    "def model_bilstm(embedding_matrix):\n",
    "    inp = Input(shape=(maxlen,))\n",
    "    x = Embedding(max_features, embed_size, weights=[embedding_matrix],trainable=False)(inp)\n",
    "    '''\n",
    "    Here 64 is the size(dim) of the hidden state vector as well as the output vector. Keeping return_sequence we want the output for the entire sequence. So what is the dimension of output for this layer?\n",
    "        64*70(maxlen)*2(bidirection concat)\n",
    "    CuDNNLSTM is fast implementation of LSTM layer in Keras which only runs on GPU\n",
    "    '''\n",
    "    x = Bidirectional(CuDNNLSTM(200, return_sequences=True))(x)\n",
    "    avg_pool = GlobalAveragePooling1D()(x)\n",
    "    max_pool = GlobalMaxPooling1D()(x)\n",
    "    conc = concatenate([avg_pool, max_pool])\n",
    "    conc = Dense(200, activation=\"relu\")(conc)\n",
    "    conc = Dropout(0.2)(conc)\n",
    "    outp = Dense(1, activation=\"sigmoid\")(conc)\n",
    "    model = Model(inputs=inp, outputs=outp)\n",
    "    model.compile(loss='binary_crossentropy', optimizer='adam', metrics=['accuracy'])\n",
    "    return model"
   ]
  },
  {
   "cell_type": "code",
   "execution_count": 8,
   "metadata": {
    "_uuid": "7a18102915344e787126ebba1f5c92587ffa2d54",
    "execution": {
     "iopub.execute_input": "2022-10-13T08:26:17.158274Z",
     "iopub.status.busy": "2022-10-13T08:26:17.157555Z",
     "iopub.status.idle": "2022-10-13T08:26:17.167036Z",
     "shell.execute_reply": "2022-10-13T08:26:17.166008Z",
     "shell.execute_reply.started": "2022-10-13T08:26:17.158209Z"
    }
   },
   "outputs": [],
   "source": [
    "def train_pred(model, epochs=2):\n",
    "    filepath=\"weights_best.h5\"\n",
    "    checkpoint = ModelCheckpoint(filepath, monitor='val_loss', verbose=2, save_best_only=True, mode='min')\n",
    "    reduce_lr = ReduceLROnPlateau(monitor='val_loss', factor=0.5, patience=1, min_lr=0.0001, verbose=2)\n",
    "    earlystopping = EarlyStopping(monitor='val_loss', min_delta=0.0001, patience=2, verbose=2, mode='auto')\n",
    "    callbacks = [checkpoint, reduce_lr]\n",
    "    \n",
    "    for e in range(epochs):\n",
    "        model.fit(train_X, train_y, batch_size=512, epochs=1, validation_data=(val_X, val_y),callbacks=callbacks)\n",
    "        \n",
    "    model.load_weights(filepath)\n",
    "    pred_val_y = model.predict([val_X], batch_size=1024, verbose=0)\n",
    "    pred_test_y = model.predict([test_X], batch_size=1024, verbose=0)\n",
    "    return pred_val_y, pred_test_y"
   ]
  },
  {
   "cell_type": "code",
   "execution_count": 9,
   "metadata": {
    "execution": {
     "iopub.execute_input": "2022-10-13T08:26:17.169569Z",
     "iopub.status.busy": "2022-10-13T08:26:17.168813Z",
     "iopub.status.idle": "2022-10-13T08:26:17.183359Z",
     "shell.execute_reply": "2022-10-13T08:26:17.182309Z",
     "shell.execute_reply.started": "2022-10-13T08:26:17.169170Z"
    }
   },
   "outputs": [],
   "source": [
    "'''\n",
    "A function specific to this competition since the organizers don't want probabilities \n",
    "and only want 0/1 classification maximizing the F1 score. This function computes the best F1 score by looking at val set predictions\n",
    "'''\n",
    "\n",
    "def f1_smart(y_true, y_pred):\n",
    "    thresholds = []\n",
    "    for thresh in np.arange(0.3, 0.7, 0.01):\n",
    "        thresh = np.round(thresh, 2)\n",
    "        res = metrics.f1_score(y_true, (y_pred > thresh).astype(int), average='macro')\n",
    "        thresholds.append([thresh, res])\n",
    "#         print(\"F1 score at threshold {0} is {1}\".format(thresh, res))\n",
    "\n",
    "    thresholds.sort(key=lambda x: x[1], reverse=True)\n",
    "    best_thresh = thresholds[0][0]\n",
    "    best_f1 = thresholds[0][1]\n",
    "    print(\"Best threshold: \", best_thresh)\n",
    "    return  best_f1, best_thresh"
   ]
  },
  {
   "cell_type": "markdown",
   "metadata": {},
   "source": [
    "# OLID small"
   ]
  },
  {
   "cell_type": "markdown",
   "metadata": {},
   "source": [
    "## CNN"
   ]
  },
  {
   "cell_type": "code",
   "execution_count": 10,
   "metadata": {
    "_uuid": "582f4442e773e54a9a4685fbe4792b52cc282674",
    "execution": {
     "iopub.execute_input": "2022-10-13T08:26:17.186030Z",
     "iopub.status.busy": "2022-10-13T08:26:17.185084Z",
     "iopub.status.idle": "2022-10-13T08:26:53.822758Z",
     "shell.execute_reply": "2022-10-13T08:26:53.821998Z",
     "shell.execute_reply.started": "2022-10-13T08:26:17.185569Z"
    }
   },
   "outputs": [
    {
     "name": "stdout",
     "output_type": "stream",
     "text": [
      "Train shape :  (5852, 2)\n",
      "Test shape :  (860, 2)\n"
     ]
    }
   ],
   "source": [
    "train_X, val_X, test_X, train_y, val_y, word_index = preproc(olid_train_small, olid_test)\n",
    "embedding_matrix = create_embeddings(word_index)\n",
    "model = model_cnn(embedding_matrix)\n",
    "# model.summary()"
   ]
  },
  {
   "cell_type": "code",
   "execution_count": null,
   "metadata": {
    "_uuid": "c7e4b7948f12d43a61217139914202a67f5f0c5b",
    "execution": {
     "iopub.execute_input": "2022-10-13T08:28:32.111290Z",
     "iopub.status.busy": "2022-10-13T08:28:32.110801Z"
    }
   },
   "outputs": [
    {
     "name": "stdout",
     "output_type": "stream",
     "text": [
      "Train on 5266 samples, validate on 586 samples\n",
      "Epoch 1/1\n",
      "5266/5266 [==============================] - 30s 6ms/step - loss: 0.9034 - acc: 0.5435 - val_loss: 0.6683 - val_acc: 0.6229\n",
      "\n",
      "Epoch 00001: val_loss improved from inf to 0.66830, saving model to weights_best.h5\n",
      "Train on 5266 samples, validate on 586 samples\n",
      "Epoch 1/1\n",
      "5266/5266 [==============================] - 29s 6ms/step - loss: 0.5965 - acc: 0.6829 - val_loss: 0.5974 - val_acc: 0.6604\n",
      "\n",
      "Epoch 00001: val_loss improved from 0.66830 to 0.59742, saving model to weights_best.h5\n",
      "Train on 5266 samples, validate on 586 samples\n",
      "Epoch 1/1\n",
      "5266/5266 [==============================] - 29s 6ms/step - loss: 0.5066 - acc: 0.7592 - val_loss: 0.5445 - val_acc: 0.7133\n",
      "\n",
      "Epoch 00001: val_loss improved from 0.59742 to 0.54447, saving model to weights_best.h5\n",
      "Train on 5266 samples, validate on 586 samples\n",
      "Epoch 1/1\n",
      "5266/5266 [==============================] - 29s 6ms/step - loss: 0.4377 - acc: 0.8038 - val_loss: 0.5040 - val_acc: 0.7474\n",
      "\n",
      "Epoch 00001: val_loss improved from 0.54447 to 0.50402, saving model to weights_best.h5\n",
      "Train on 5266 samples, validate on 586 samples\n",
      "Epoch 1/1\n",
      "5266/5266 [==============================] - 29s 6ms/step - loss: 0.3822 - acc: 0.8479 - val_loss: 0.4983 - val_acc: 0.7474\n",
      "\n",
      "Epoch 00001: val_loss improved from 0.50402 to 0.49828, saving model to weights_best.h5\n",
      "Train on 5266 samples, validate on 586 samples\n",
      "Epoch 1/1\n",
      "5266/5266 [==============================] - 29s 6ms/step - loss: 0.3344 - acc: 0.8728 - val_loss: 0.4787 - val_acc: 0.7765\n",
      "\n",
      "Epoch 00001: val_loss improved from 0.49828 to 0.47873, saving model to weights_best.h5\n",
      "Train on 5266 samples, validate on 586 samples\n",
      "Epoch 1/1\n",
      "5266/5266 [==============================] - 29s 5ms/step - loss: 0.2967 - acc: 0.8973 - val_loss: 0.4748 - val_acc: 0.7850\n",
      "\n",
      "Epoch 00001: val_loss improved from 0.47873 to 0.47475, saving model to weights_best.h5\n",
      "Train on 5266 samples, validate on 586 samples\n",
      "Epoch 1/1\n",
      "5266/5266 [==============================] - 29s 5ms/step - loss: 0.2594 - acc: 0.9187 - val_loss: 0.4733 - val_acc: 0.7833\n",
      "\n",
      "Epoch 00001: val_loss improved from 0.47475 to 0.47335, saving model to weights_best.h5\n",
      "Train on 5266 samples, validate on 586 samples\n",
      "Epoch 1/1\n",
      "5266/5266 [==============================] - 29s 6ms/step - loss: 0.2349 - acc: 0.9320 - val_loss: 0.4703 - val_acc: 0.7850\n",
      "\n",
      "Epoch 00001: val_loss improved from 0.47335 to 0.47033, saving model to weights_best.h5\n",
      "Train on 5266 samples, validate on 586 samples\n",
      "Epoch 1/1\n",
      "5266/5266 [==============================] - 29s 6ms/step - loss: 0.2010 - acc: 0.9516 - val_loss: 0.4707 - val_acc: 0.7816\n",
      "\n",
      "Epoch 00001: val_loss did not improve from 0.47033\n",
      "Train on 5266 samples, validate on 586 samples\n",
      "Epoch 1/1\n",
      "5266/5266 [==============================] - 29s 6ms/step - loss: 0.1768 - acc: 0.9596 - val_loss: 0.4730 - val_acc: 0.7782\n",
      "\n",
      "Epoch 00001: val_loss did not improve from 0.47033\n",
      "Train on 5266 samples, validate on 586 samples\n",
      "Epoch 1/1\n",
      "5266/5266 [==============================] - 29s 5ms/step - loss: 0.1546 - acc: 0.9696 - val_loss: 0.4820 - val_acc: 0.7765\n",
      "\n",
      "Epoch 00001: val_loss did not improve from 0.47033\n",
      "Train on 5266 samples, validate on 586 samples\n",
      "Epoch 1/1\n",
      "5266/5266 [==============================] - 29s 5ms/step - loss: 0.1367 - acc: 0.9747 - val_loss: 0.4880 - val_acc: 0.7799\n",
      "\n",
      "Epoch 00001: val_loss did not improve from 0.47033\n",
      "Train on 5266 samples, validate on 586 samples\n",
      "Epoch 1/1\n",
      "4608/5266 [=========================>....] - ETA: 3s - loss: 0.1216 - acc: 0.9803"
     ]
    }
   ],
   "source": [
    "pred_val_y, pred_test_y = train_pred(model, epochs=25)"
   ]
  },
  {
   "cell_type": "code",
   "execution_count": null,
   "metadata": {
    "_uuid": "fadb40378cce0d73f809fb92e4b3198b6b006ca6",
    "execution": {
     "iopub.status.busy": "2022-10-13T08:26:54.065901Z",
     "iopub.status.idle": "2022-10-13T08:26:54.066337Z"
    }
   },
   "outputs": [],
   "source": [
    "f1, threshold = f1_smart(val_y, pred_val_y)\n",
    "print('Optimal F1: {} at threshold: {}'.format(f1, threshold))\n",
    "\n",
    "pred_test_y = (pred_test_y >threshold).astype(int)\n",
    "olid_test['CNN_olid_small'] = pred_test_y\n",
    "olid_test.to_csv(\"results.csv\")"
   ]
  },
  {
   "cell_type": "markdown",
   "metadata": {},
   "source": [
    "## BiLSTM"
   ]
  },
  {
   "cell_type": "code",
   "execution_count": null,
   "metadata": {
    "execution": {
     "iopub.status.busy": "2022-10-13T08:26:54.067338Z",
     "iopub.status.idle": "2022-10-13T08:26:54.068121Z"
    }
   },
   "outputs": [],
   "source": [
    "train_X, val_X, test_X, train_y, val_y, word_index = preproc(olid_train_small, olid_test)\n",
    "embedding_matrix = create_embeddings(word_index)\n",
    "model = model_bilstm(embedding_matrix)\n",
    "# model.summary()"
   ]
  },
  {
   "cell_type": "code",
   "execution_count": null,
   "metadata": {
    "execution": {
     "iopub.status.busy": "2022-10-13T08:26:54.068762Z",
     "iopub.status.idle": "2022-10-13T08:26:54.069385Z"
    }
   },
   "outputs": [],
   "source": [
    "pred_val_y, pred_test_y = train_pred(model, epochs=25)"
   ]
  },
  {
   "cell_type": "code",
   "execution_count": null,
   "metadata": {
    "execution": {
     "iopub.status.busy": "2022-10-13T08:26:54.070230Z",
     "iopub.status.idle": "2022-10-13T08:26:54.070862Z"
    }
   },
   "outputs": [],
   "source": [
    "f1, threshold = f1_smart(val_y, pred_val_y)\n",
    "print('Optimal F1: {} at threshold: {}'.format(f1, threshold))\n",
    "\n",
    "pred_test_y = (pred_test_y >threshold).astype(int)\n",
    "olid_test['BiLSTM_olid_small'] = pred_test_y\n",
    "olid_test.to_csv(\"results.csv\")"
   ]
  },
  {
   "cell_type": "markdown",
   "metadata": {},
   "source": [
    "# HASOC"
   ]
  },
  {
   "cell_type": "markdown",
   "metadata": {},
   "source": [
    "## CNN"
   ]
  },
  {
   "cell_type": "code",
   "execution_count": null,
   "metadata": {
    "execution": {
     "iopub.status.busy": "2022-10-13T08:26:54.071575Z",
     "iopub.status.idle": "2022-10-13T08:26:54.072005Z"
    }
   },
   "outputs": [],
   "source": [
    "train_X, val_X, test_X, train_y, val_y, word_index = preproc(hasoc_train, olid_test)\n",
    "embedding_matrix = create_embeddings(word_index)\n",
    "model = model_cnn(embedding_matrix)\n",
    "# model.summary()"
   ]
  },
  {
   "cell_type": "code",
   "execution_count": null,
   "metadata": {
    "execution": {
     "iopub.status.busy": "2022-10-13T08:26:54.073807Z",
     "iopub.status.idle": "2022-10-13T08:26:54.074205Z"
    }
   },
   "outputs": [],
   "source": [
    "pred_val_y, pred_test_y = train_pred(model, epochs=25)"
   ]
  },
  {
   "cell_type": "code",
   "execution_count": null,
   "metadata": {
    "execution": {
     "iopub.status.busy": "2022-10-13T08:26:54.074767Z",
     "iopub.status.idle": "2022-10-13T08:26:54.075132Z"
    }
   },
   "outputs": [],
   "source": [
    "f1, threshold = f1_smart(val_y, pred_val_y)\n",
    "print('Optimal F1: {} at threshold: {}'.format(f1, threshold))\n",
    "\n",
    "pred_test_y = (pred_test_y >threshold).astype(int)\n",
    "olid_test['CNN_hasoc'] = pred_test_y\n",
    "olid_test.to_csv(\"results.csv\")"
   ]
  },
  {
   "cell_type": "markdown",
   "metadata": {},
   "source": [
    "## BiLSTM"
   ]
  },
  {
   "cell_type": "code",
   "execution_count": null,
   "metadata": {
    "execution": {
     "iopub.status.busy": "2022-10-13T08:26:54.075688Z",
     "iopub.status.idle": "2022-10-13T08:26:54.076143Z"
    }
   },
   "outputs": [],
   "source": [
    "train_X, val_X, test_X, train_y, val_y, word_index = preproc(hasoc_train, olid_test)\n",
    "embedding_matrix = create_embeddings(word_index)\n",
    "model = model_bilstm(embedding_matrix)\n",
    "# model.summary()"
   ]
  },
  {
   "cell_type": "code",
   "execution_count": null,
   "metadata": {
    "execution": {
     "iopub.status.busy": "2022-10-13T08:26:54.078134Z",
     "iopub.status.idle": "2022-10-13T08:26:54.078500Z"
    }
   },
   "outputs": [],
   "source": [
    "pred_val_y, pred_test_y = train_pred(model, epochs=25)"
   ]
  },
  {
   "cell_type": "code",
   "execution_count": null,
   "metadata": {
    "execution": {
     "iopub.status.busy": "2022-10-13T08:26:54.079053Z",
     "iopub.status.idle": "2022-10-13T08:26:54.079379Z"
    }
   },
   "outputs": [],
   "source": [
    "f1, threshold = f1_smart(val_y, pred_val_y)\n",
    "print('Optimal F1: {} at threshold: {}'.format(f1, threshold))\n",
    "\n",
    "pred_test_y = (pred_test_y >threshold).astype(int)\n",
    "olid_test['BiLSTM_hasoc'] = pred_test_y\n",
    "olid_test.to_csv(\"results.csv\")"
   ]
  },
  {
   "cell_type": "markdown",
   "metadata": {
    "_uuid": "a639045cf40f9d1fa07d134119774df52add4733"
   },
   "source": [
    "## References\n",
    "\n",
    "* CNN Notebook: https://www.kaggle.com/code/mlwhiz/learning-text-classification-textcnn/notebook\n",
    "* BiLSTM Notebook: https://www.kaggle.com/code/mlwhiz/bilstm-pytorch-and-keras#b.-Runing-Keras-Model\n",
    "\n",
    "* Based on SRK's kernel: https://www.kaggle.com/sudalairajkumar/a-look-at-different-embeddings\n",
    "* Vladimir Demidov's 2DCNN textClassifier: https://www.kaggle.com/yekenot/2dcnn-textclassifier\n",
    "* Shujian's https://www.kaggle.com/shujian/fork-of-mix-of-nn-models"
   ]
  }
 ],
 "metadata": {
  "kernelspec": {
   "display_name": "Python 3",
   "language": "python",
   "name": "python3"
  },
  "language_info": {
   "codemirror_mode": {
    "name": "ipython",
    "version": 3
   },
   "file_extension": ".py",
   "mimetype": "text/x-python",
   "name": "python",
   "nbconvert_exporter": "python",
   "pygments_lexer": "ipython3",
   "version": "3.8.8"
  }
 },
 "nbformat": 4,
 "nbformat_minor": 4
}
